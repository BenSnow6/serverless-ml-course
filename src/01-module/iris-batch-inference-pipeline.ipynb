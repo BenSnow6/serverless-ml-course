{
 "cells": [
  {
   "cell_type": "markdown",
   "metadata": {
    "id": "d2kLrOh-bpGy"
   },
   "source": [
    "# Iris Flower - Batch Prediction\n",
    "\n",
    "\n",
    "In this notebook we will, \n",
    "\n",
    "1. Load the batch inference data that arrived in the last 24 hours\n",
    "2. Predict the first Iris Flower found in the batch\n",
    "3. Write the ouput png of the Iris flower predicted, to be displayed in Github Pages."
   ]
  },
  {
   "cell_type": "code",
   "execution_count": 1,
   "metadata": {
    "id": "xRtpj-psbpG8"
   },
   "outputs": [
    {
     "name": "stdout",
     "output_type": "stream",
     "text": [
      "Connected. Call `.close()` to terminate connection gracefully.\n",
      "\n",
      "Logged in to project, explore it here https://c.app.hopsworks.ai:443/p/2289\n",
      "Connected. Call `.close()` to terminate connection gracefully.\n"
     ]
    }
   ],
   "source": [
    "import pandas as pd\n",
    "import hopsworks\n",
    "import joblib\n",
    "\n",
    "project = hopsworks.login() # login to Hopsworks\n",
    "fs = project.get_feature_store() # get the feature store"
   ]
  },
  {
   "cell_type": "code",
   "execution_count": 2,
   "metadata": {},
   "outputs": [
    {
     "name": "stdout",
     "output_type": "stream",
     "text": [
      "Connected. Call `.close()` to terminate connection gracefully.\n",
      "Downloading file ... "
     ]
    }
   ],
   "source": [
    "mr = project.get_model_registry()\n",
    "model = mr.get_model(\"iris\", version=1)\n",
    "model_dir = model.download()\n",
    "model = joblib.load(model_dir + \"/iris_model.pkl\")"
   ]
  },
  {
   "cell_type": "markdown",
   "metadata": {},
   "source": [
    "We are downloading the 'raw' iris data. We explicitly do not want transformed data, reading for training. \n",
    "\n",
    "So, let's download the iris dataset, and preview some rows. \n",
    "\n",
    "Note, that it is 'tabular data'. There are 5 columns: 4 of them are \"features\", and the \"variety\" column is the **target** (what we are trying to predict using the 4 feature values in the target's row)."
   ]
  },
  {
   "cell_type": "code",
   "execution_count": 3,
   "metadata": {
    "colab": {
     "base_uri": "https://localhost:8080/",
     "height": 206
    },
    "id": "nRmFM7vcbpHA",
    "outputId": "d920d168-9818-40c5-c292-4cf0afcbbcfd"
   },
   "outputs": [],
   "source": [
    "feature_view = fs.get_feature_view(name=\"iris\", version=1)"
   ]
  },
  {
   "cell_type": "markdown",
   "metadata": {},
   "source": [
    "Now we will do some **Batch Inference**. \n",
    "\n",
    "We will read all the input features that have arrived in the last 24 hours, and score them."
   ]
  },
  {
   "cell_type": "code",
   "execution_count": 4,
   "metadata": {
    "id": "uHuAD3ttP8Ep"
   },
   "outputs": [
    {
     "name": "stderr",
     "output_type": "stream",
     "text": [
      "VersionWarning: No training dataset version was provided to initialise batch scoring . Defaulting to version 1.\n"
     ]
    },
    {
     "name": "stdout",
     "output_type": "stream",
     "text": [
      "2022-10-08 17:13:09,535 INFO: USE `bensnows_featurestore`\n",
      "2022-10-08 17:13:10,490 INFO: SELECT `fg0`.`sepal_length` `sepal_length`, `fg0`.`sepal_width` `sepal_width`, `fg0`.`petal_length` `petal_length`, `fg0`.`petal_width` `petal_width`\n",
      "FROM `bensnows_featurestore`.`iris_1` `fg0`\n"
     ]
    },
    {
     "data": {
      "text/plain": [
       "array(['Setosa', 'Versicolor', 'Virginica', 'Versicolor', 'Setosa',\n",
       "       'Versicolor', 'Virginica', 'Versicolor', 'Setosa', 'Setosa',\n",
       "       'Setosa', 'Setosa', 'Versicolor', 'Virginica', 'Setosa',\n",
       "       'Virginica', 'Versicolor', 'Setosa', 'Versicolor', 'Versicolor',\n",
       "       'Setosa', 'Versicolor', 'Setosa', 'Setosa', 'Versicolor',\n",
       "       'Virginica', 'Virginica', 'Virginica', 'Virginica', 'Versicolor',\n",
       "       'Versicolor', 'Setosa', 'Setosa', 'Virginica', 'Setosa',\n",
       "       'Virginica', 'Setosa', 'Versicolor', 'Virginica', 'Versicolor',\n",
       "       'Virginica', 'Setosa', 'Versicolor', 'Virginica', 'Versicolor',\n",
       "       'Setosa', 'Versicolor', 'Versicolor', 'Virginica', 'Setosa',\n",
       "       'Setosa', 'Virginica', 'Virginica', 'Versicolor', 'Versicolor',\n",
       "       'Virginica', 'Versicolor', 'Versicolor', 'Versicolor', 'Setosa',\n",
       "       'Virginica', 'Virginica', 'Virginica', 'Setosa', 'Virginica',\n",
       "       'Setosa', 'Versicolor', 'Versicolor', 'Setosa', 'Setosa', 'Setosa',\n",
       "       'Virginica', 'Versicolor', 'Versicolor', 'Versicolor', 'Virginica',\n",
       "       'Versicolor', 'Virginica', 'Versicolor', 'Setosa', 'Setosa',\n",
       "       'Setosa', 'Versicolor', 'Virginica', 'Versicolor', 'Setosa',\n",
       "       'Versicolor', 'Virginica', 'Setosa', 'Virginica', 'Virginica',\n",
       "       'Virginica', 'Versicolor', 'Versicolor', 'Versicolor', 'Setosa',\n",
       "       'Setosa', 'Setosa', 'Versicolor', 'Virginica', 'Virginica',\n",
       "       'Setosa', 'Setosa', 'Versicolor', 'Virginica', 'Setosa',\n",
       "       'Versicolor', 'Virginica', 'Versicolor', 'Virginica', 'Setosa',\n",
       "       'Versicolor', 'Virginica', 'Setosa', 'Setosa', 'Versicolor',\n",
       "       'Versicolor', 'Setosa', 'Versicolor', 'Versicolor', 'Virginica',\n",
       "       'Versicolor', 'Setosa', 'Virginica', 'Versicolor', 'Virginica',\n",
       "       'Versicolor', 'Virginica', 'Virginica', 'Setosa', 'Versicolor',\n",
       "       'Versicolor', 'Setosa', 'Setosa', 'Virginica', 'Versicolor',\n",
       "       'Versicolor', 'Setosa', 'Setosa', 'Versicolor', 'Setosa',\n",
       "       'Virginica', 'Setosa', 'Setosa', 'Versicolor', 'Virginica',\n",
       "       'Virginica', 'Virginica', 'Setosa', 'Virginica', 'Versicolor',\n",
       "       'Setosa', 'Versicolor', 'Setosa', 'Setosa', 'Versicolor', 'Setosa',\n",
       "       'Setosa'], dtype=object)"
      ]
     },
     "execution_count": 4,
     "metadata": {},
     "output_type": "execute_result"
    }
   ],
   "source": [
    "import datetime\n",
    "from PIL import Image\n",
    "\n",
    "batch_data = feature_view.get_batch_data()\n",
    "\n",
    "y_pred = model.predict(batch_data)\n",
    "\n",
    "y_pred"
   ]
  },
  {
   "cell_type": "code",
   "execution_count": 5,
   "metadata": {},
   "outputs": [
    {
     "data": {
      "text/html": [
       "<div>\n",
       "<style scoped>\n",
       "    .dataframe tbody tr th:only-of-type {\n",
       "        vertical-align: middle;\n",
       "    }\n",
       "\n",
       "    .dataframe tbody tr th {\n",
       "        vertical-align: top;\n",
       "    }\n",
       "\n",
       "    .dataframe thead th {\n",
       "        text-align: right;\n",
       "    }\n",
       "</style>\n",
       "<table border=\"1\" class=\"dataframe\">\n",
       "  <thead>\n",
       "    <tr style=\"text-align: right;\">\n",
       "      <th></th>\n",
       "      <th>sepal_length</th>\n",
       "      <th>sepal_width</th>\n",
       "      <th>petal_length</th>\n",
       "      <th>petal_width</th>\n",
       "    </tr>\n",
       "  </thead>\n",
       "  <tbody>\n",
       "    <tr>\n",
       "      <th>0</th>\n",
       "      <td>5.700000</td>\n",
       "      <td>3.800000</td>\n",
       "      <td>1.700000</td>\n",
       "      <td>0.300000</td>\n",
       "    </tr>\n",
       "    <tr>\n",
       "      <th>1</th>\n",
       "      <td>5.600000</td>\n",
       "      <td>2.700000</td>\n",
       "      <td>4.200000</td>\n",
       "      <td>1.300000</td>\n",
       "    </tr>\n",
       "    <tr>\n",
       "      <th>2</th>\n",
       "      <td>6.300000</td>\n",
       "      <td>3.300000</td>\n",
       "      <td>6.000000</td>\n",
       "      <td>2.500000</td>\n",
       "    </tr>\n",
       "    <tr>\n",
       "      <th>3</th>\n",
       "      <td>6.000000</td>\n",
       "      <td>2.900000</td>\n",
       "      <td>4.500000</td>\n",
       "      <td>1.500000</td>\n",
       "    </tr>\n",
       "    <tr>\n",
       "      <th>4</th>\n",
       "      <td>5.000000</td>\n",
       "      <td>3.000000</td>\n",
       "      <td>1.600000</td>\n",
       "      <td>0.200000</td>\n",
       "    </tr>\n",
       "    <tr>\n",
       "      <th>...</th>\n",
       "      <td>...</td>\n",
       "      <td>...</td>\n",
       "      <td>...</td>\n",
       "      <td>...</td>\n",
       "    </tr>\n",
       "    <tr>\n",
       "      <th>153</th>\n",
       "      <td>5.162807</td>\n",
       "      <td>3.276133</td>\n",
       "      <td>1.423420</td>\n",
       "      <td>0.696103</td>\n",
       "    </tr>\n",
       "    <tr>\n",
       "      <th>154</th>\n",
       "      <td>5.806817</td>\n",
       "      <td>3.110154</td>\n",
       "      <td>1.410427</td>\n",
       "      <td>0.666380</td>\n",
       "    </tr>\n",
       "    <tr>\n",
       "      <th>155</th>\n",
       "      <td>6.468989</td>\n",
       "      <td>3.473136</td>\n",
       "      <td>3.229041</td>\n",
       "      <td>1.184041</td>\n",
       "    </tr>\n",
       "    <tr>\n",
       "      <th>156</th>\n",
       "      <td>5.750154</td>\n",
       "      <td>2.486839</td>\n",
       "      <td>1.436110</td>\n",
       "      <td>0.325971</td>\n",
       "    </tr>\n",
       "    <tr>\n",
       "      <th>157</th>\n",
       "      <td>5.945628</td>\n",
       "      <td>3.265188</td>\n",
       "      <td>1.242137</td>\n",
       "      <td>0.488373</td>\n",
       "    </tr>\n",
       "  </tbody>\n",
       "</table>\n",
       "<p>158 rows × 4 columns</p>\n",
       "</div>"
      ],
      "text/plain": [
       "     sepal_length  sepal_width  petal_length  petal_width\n",
       "0        5.700000     3.800000      1.700000     0.300000\n",
       "1        5.600000     2.700000      4.200000     1.300000\n",
       "2        6.300000     3.300000      6.000000     2.500000\n",
       "3        6.000000     2.900000      4.500000     1.500000\n",
       "4        5.000000     3.000000      1.600000     0.200000\n",
       "..            ...          ...           ...          ...\n",
       "153      5.162807     3.276133      1.423420     0.696103\n",
       "154      5.806817     3.110154      1.410427     0.666380\n",
       "155      6.468989     3.473136      3.229041     1.184041\n",
       "156      5.750154     2.486839      1.436110     0.325971\n",
       "157      5.945628     3.265188      1.242137     0.488373\n",
       "\n",
       "[158 rows x 4 columns]"
      ]
     },
     "execution_count": 5,
     "metadata": {},
     "output_type": "execute_result"
    }
   ],
   "source": [
    "batch_data"
   ]
  },
  {
   "cell_type": "markdown",
   "metadata": {},
   "source": [
    "Batch prediction output is the last entry in the batch - it is output as a file 'latest_iris.png'"
   ]
  },
  {
   "cell_type": "code",
   "execution_count": 6,
   "metadata": {},
   "outputs": [],
   "source": [
    "flower = y_pred[y_pred.size-1]\n",
    "flower_img = \"assets/\" + flower + \".png\"\n",
    "img = Image.open(flower_img)            \n",
    "\n",
    "img.save(\"../../assets/latest_iris.png\")"
   ]
  },
  {
   "cell_type": "code",
   "execution_count": 7,
   "metadata": {},
   "outputs": [
    {
     "name": "stdout",
     "output_type": "stream",
     "text": [
      "2022-10-08 17:13:14,188 INFO: USE `bensnows_featurestore`\n",
      "2022-10-08 17:13:15,149 INFO: SELECT `fg0`.`sepal_length` `sepal_length`, `fg0`.`sepal_width` `sepal_width`, `fg0`.`petal_length` `petal_length`, `fg0`.`petal_width` `petal_width`, `fg0`.`variety` `variety`\n",
      "FROM `bensnows_featurestore`.`iris_1` `fg0`\n"
     ]
    },
    {
     "data": {
      "text/html": [
       "<div>\n",
       "<style scoped>\n",
       "    .dataframe tbody tr th:only-of-type {\n",
       "        vertical-align: middle;\n",
       "    }\n",
       "\n",
       "    .dataframe tbody tr th {\n",
       "        vertical-align: top;\n",
       "    }\n",
       "\n",
       "    .dataframe thead th {\n",
       "        text-align: right;\n",
       "    }\n",
       "</style>\n",
       "<table border=\"1\" class=\"dataframe\">\n",
       "  <thead>\n",
       "    <tr style=\"text-align: right;\">\n",
       "      <th></th>\n",
       "      <th>sepal_length</th>\n",
       "      <th>sepal_width</th>\n",
       "      <th>petal_length</th>\n",
       "      <th>petal_width</th>\n",
       "      <th>variety</th>\n",
       "    </tr>\n",
       "  </thead>\n",
       "  <tbody>\n",
       "    <tr>\n",
       "      <th>0</th>\n",
       "      <td>5.700000</td>\n",
       "      <td>3.800000</td>\n",
       "      <td>1.700000</td>\n",
       "      <td>0.300000</td>\n",
       "      <td>Setosa</td>\n",
       "    </tr>\n",
       "    <tr>\n",
       "      <th>1</th>\n",
       "      <td>5.600000</td>\n",
       "      <td>2.700000</td>\n",
       "      <td>4.200000</td>\n",
       "      <td>1.300000</td>\n",
       "      <td>Versicolor</td>\n",
       "    </tr>\n",
       "    <tr>\n",
       "      <th>2</th>\n",
       "      <td>6.300000</td>\n",
       "      <td>3.300000</td>\n",
       "      <td>6.000000</td>\n",
       "      <td>2.500000</td>\n",
       "      <td>Virginica</td>\n",
       "    </tr>\n",
       "    <tr>\n",
       "      <th>3</th>\n",
       "      <td>6.000000</td>\n",
       "      <td>2.900000</td>\n",
       "      <td>4.500000</td>\n",
       "      <td>1.500000</td>\n",
       "      <td>Versicolor</td>\n",
       "    </tr>\n",
       "    <tr>\n",
       "      <th>4</th>\n",
       "      <td>5.000000</td>\n",
       "      <td>3.000000</td>\n",
       "      <td>1.600000</td>\n",
       "      <td>0.200000</td>\n",
       "      <td>Setosa</td>\n",
       "    </tr>\n",
       "    <tr>\n",
       "      <th>...</th>\n",
       "      <td>...</td>\n",
       "      <td>...</td>\n",
       "      <td>...</td>\n",
       "      <td>...</td>\n",
       "      <td>...</td>\n",
       "    </tr>\n",
       "    <tr>\n",
       "      <th>153</th>\n",
       "      <td>5.162807</td>\n",
       "      <td>3.276133</td>\n",
       "      <td>1.423420</td>\n",
       "      <td>0.696103</td>\n",
       "      <td>Setosa</td>\n",
       "    </tr>\n",
       "    <tr>\n",
       "      <th>154</th>\n",
       "      <td>5.806817</td>\n",
       "      <td>3.110154</td>\n",
       "      <td>1.410427</td>\n",
       "      <td>0.666380</td>\n",
       "      <td>Setosa</td>\n",
       "    </tr>\n",
       "    <tr>\n",
       "      <th>155</th>\n",
       "      <td>6.468989</td>\n",
       "      <td>3.473136</td>\n",
       "      <td>3.229041</td>\n",
       "      <td>1.184041</td>\n",
       "      <td>Versicolor</td>\n",
       "    </tr>\n",
       "    <tr>\n",
       "      <th>156</th>\n",
       "      <td>5.750154</td>\n",
       "      <td>2.486839</td>\n",
       "      <td>1.436110</td>\n",
       "      <td>0.325971</td>\n",
       "      <td>Setosa</td>\n",
       "    </tr>\n",
       "    <tr>\n",
       "      <th>157</th>\n",
       "      <td>5.945628</td>\n",
       "      <td>3.265188</td>\n",
       "      <td>1.242137</td>\n",
       "      <td>0.488373</td>\n",
       "      <td>Setosa</td>\n",
       "    </tr>\n",
       "  </tbody>\n",
       "</table>\n",
       "<p>158 rows × 5 columns</p>\n",
       "</div>"
      ],
      "text/plain": [
       "     sepal_length  sepal_width  petal_length  petal_width     variety\n",
       "0        5.700000     3.800000      1.700000     0.300000      Setosa\n",
       "1        5.600000     2.700000      4.200000     1.300000  Versicolor\n",
       "2        6.300000     3.300000      6.000000     2.500000   Virginica\n",
       "3        6.000000     2.900000      4.500000     1.500000  Versicolor\n",
       "4        5.000000     3.000000      1.600000     0.200000      Setosa\n",
       "..            ...          ...           ...          ...         ...\n",
       "153      5.162807     3.276133      1.423420     0.696103      Setosa\n",
       "154      5.806817     3.110154      1.410427     0.666380      Setosa\n",
       "155      6.468989     3.473136      3.229041     1.184041  Versicolor\n",
       "156      5.750154     2.486839      1.436110     0.325971      Setosa\n",
       "157      5.945628     3.265188      1.242137     0.488373      Setosa\n",
       "\n",
       "[158 rows x 5 columns]"
      ]
     },
     "execution_count": 7,
     "metadata": {},
     "output_type": "execute_result"
    }
   ],
   "source": [
    "iris_fg = fs.get_feature_group(name=\"iris\", version=1)\n",
    "df = iris_fg.read()\n",
    "df"
   ]
  },
  {
   "cell_type": "code",
   "execution_count": 8,
   "metadata": {},
   "outputs": [
    {
     "data": {
      "text/plain": [
       "'Setosa'"
      ]
     },
     "execution_count": 8,
     "metadata": {},
     "output_type": "execute_result"
    }
   ],
   "source": [
    "label = df.iloc[-1][\"variety\"]\n",
    "label"
   ]
  },
  {
   "cell_type": "code",
   "execution_count": 9,
   "metadata": {},
   "outputs": [],
   "source": [
    "label_flower = \"assets/\" + label + \".png\"\n",
    "\n",
    "img = Image.open(label_flower)            \n",
    "\n",
    "img.save(\"../../assets/actual_iris.png\")"
   ]
  },
  {
   "cell_type": "code",
   "execution_count": 10,
   "metadata": {},
   "outputs": [],
   "source": [
    "import pandas as pd\n",
    "# get or create the feature group\n",
    "monitor_fg = fs.get_or_create_feature_group(name=\"iris_predictions\",\n",
    "                                  version=1,\n",
    "                                  primary_key=[\"datetime\"], # Set the primary key\n",
    "                                  description=\"Iris flower Prediction/Outcome Monitoring\"\n",
    "                                 )"
   ]
  },
  {
   "cell_type": "code",
   "execution_count": 11,
   "metadata": {},
   "outputs": [
    {
     "name": "stderr",
     "output_type": "stream",
     "text": [
      "Uploading Dataframe: 100.00% |██████████| Rows 1/1 | Elapsed Time: 00:01 | Remaining Time: 00:00\n"
     ]
    },
    {
     "name": "stdout",
     "output_type": "stream",
     "text": [
      "Launching offline feature group backfill job...\n",
      "Backfill Job started successfully, you can follow the progress at \n",
      "https://c.app.hopsworks.ai/p/2289/jobs/named/iris_predictions_1_offline_fg_backfill/executions\n"
     ]
    },
    {
     "data": {
      "text/plain": [
       "(<hsfs.core.job.Job at 0x1889f755dc8>, None)"
      ]
     },
     "execution_count": 11,
     "metadata": {},
     "output_type": "execute_result"
    }
   ],
   "source": [
    "from datetime import datetime\n",
    "now = datetime.now().strftime(\"%m/%d/%Y, %H:%M:%S\") # Get the current time\n",
    "metadata = {\n",
    "    'prediction': [flower], # The prediction\n",
    "    'label': [label], # The ground truth label\n",
    "    'datetime': [now], # The time of the prediction\n",
    "}\n",
    "monitor_df = pd.DataFrame(metadata) # Create a dataframe from the metadata\n",
    "monitor_fg.insert(monitor_df) # insert into our monitoring feature group"
   ]
  },
  {
   "cell_type": "code",
   "execution_count": 12,
   "metadata": {},
   "outputs": [
    {
     "name": "stdout",
     "output_type": "stream",
     "text": [
      "2022-10-08 17:14:11,190 INFO: USE `bensnows_featurestore`\n",
      "2022-10-08 17:14:12,119 INFO: SELECT `fg0`.`prediction` `prediction`, `fg0`.`label` `label`, `fg0`.`datetime` `datetime`\n",
      "FROM `bensnows_featurestore`.`iris_predictions_1` `fg0`\n"
     ]
    },
    {
     "data": {
      "text/html": [
       "<div>\n",
       "<style scoped>\n",
       "    .dataframe tbody tr th:only-of-type {\n",
       "        vertical-align: middle;\n",
       "    }\n",
       "\n",
       "    .dataframe tbody tr th {\n",
       "        vertical-align: top;\n",
       "    }\n",
       "\n",
       "    .dataframe thead th {\n",
       "        text-align: right;\n",
       "    }\n",
       "</style>\n",
       "<table border=\"1\" class=\"dataframe\">\n",
       "  <thead>\n",
       "    <tr style=\"text-align: right;\">\n",
       "      <th></th>\n",
       "      <th>prediction</th>\n",
       "      <th>label</th>\n",
       "      <th>datetime</th>\n",
       "    </tr>\n",
       "  </thead>\n",
       "  <tbody>\n",
       "    <tr>\n",
       "      <th>0</th>\n",
       "      <td>Virginica</td>\n",
       "      <td>Virginica</td>\n",
       "      <td>10/06/2022, 14:09:17</td>\n",
       "    </tr>\n",
       "    <tr>\n",
       "      <th>1</th>\n",
       "      <td>Setosa</td>\n",
       "      <td>Setosa</td>\n",
       "      <td>10/06/2022, 14:27:44</td>\n",
       "    </tr>\n",
       "    <tr>\n",
       "      <th>2</th>\n",
       "      <td>Versicolor</td>\n",
       "      <td>Versicolor</td>\n",
       "      <td>10/06/2022, 14:31:14</td>\n",
       "    </tr>\n",
       "    <tr>\n",
       "      <th>3</th>\n",
       "      <td>Setosa</td>\n",
       "      <td>Setosa</td>\n",
       "      <td>10/06/2022, 15:17:12</td>\n",
       "    </tr>\n",
       "    <tr>\n",
       "      <th>4</th>\n",
       "      <td>Versicolor</td>\n",
       "      <td>Versicolor</td>\n",
       "      <td>10/07/2022, 11:32:06</td>\n",
       "    </tr>\n",
       "    <tr>\n",
       "      <th>5</th>\n",
       "      <td>Setosa</td>\n",
       "      <td>Setosa</td>\n",
       "      <td>10/07/2022, 12:03:33</td>\n",
       "    </tr>\n",
       "    <tr>\n",
       "      <th>6</th>\n",
       "      <td>Setosa</td>\n",
       "      <td>Setosa</td>\n",
       "      <td>10/08/2022, 11:28:02</td>\n",
       "    </tr>\n",
       "    <tr>\n",
       "      <th>7</th>\n",
       "      <td>Setosa</td>\n",
       "      <td>Setosa</td>\n",
       "      <td>10/08/2022, 15:53:15</td>\n",
       "    </tr>\n",
       "    <tr>\n",
       "      <th>8</th>\n",
       "      <td>Setosa</td>\n",
       "      <td>Setosa</td>\n",
       "      <td>10/08/2022, 17:13:17</td>\n",
       "    </tr>\n",
       "  </tbody>\n",
       "</table>\n",
       "</div>"
      ],
      "text/plain": [
       "   prediction       label              datetime\n",
       "0   Virginica   Virginica  10/06/2022, 14:09:17\n",
       "1      Setosa      Setosa  10/06/2022, 14:27:44\n",
       "2  Versicolor  Versicolor  10/06/2022, 14:31:14\n",
       "3      Setosa      Setosa  10/06/2022, 15:17:12\n",
       "4  Versicolor  Versicolor  10/07/2022, 11:32:06\n",
       "5      Setosa      Setosa  10/07/2022, 12:03:33\n",
       "6      Setosa      Setosa  10/08/2022, 11:28:02\n",
       "7      Setosa      Setosa  10/08/2022, 15:53:15\n",
       "8      Setosa      Setosa  10/08/2022, 17:13:17"
      ]
     },
     "execution_count": 12,
     "metadata": {},
     "output_type": "execute_result"
    }
   ],
   "source": [
    "history_df = monitor_fg.read() # Read the monitoring feature group into a dataframe\n",
    "history_df "
   ]
  },
  {
   "cell_type": "code",
   "execution_count": 13,
   "metadata": {},
   "outputs": [],
   "source": [
    "import dataframe_image as dfi # for dataframe snapshot\n",
    "\n",
    "df_recent = history_df.tail(5) # Get the last 5 predictions\n",
    " \n",
    "# If you exclude this image, you may have the same iris_latest.png and iris_actual.png files\n",
    "# If no files have changed, the GH-action 'git commit/push' stage fails, failing your GH action (last step)\n",
    "# This image, however, is always new, ensuring git commit/push will succeed.\n",
    "dfi.export(df_recent, '../../assets/df_recent.png') # Save the dataframe as an image"
   ]
  },
  {
   "cell_type": "code",
   "execution_count": 14,
   "metadata": {},
   "outputs": [
    {
     "name": "stdout",
     "output_type": "stream",
     "text": [
      "[[6 0 0]\n",
      " [0 2 0]\n",
      " [0 0 1]]\n"
     ]
    }
   ],
   "source": [
    "from sklearn.metrics import confusion_matrix\n",
    "\n",
    "predictions = history_df[['prediction']]\n",
    "labels = history_df[['label']]\n",
    "\n",
    "results = confusion_matrix(labels, predictions)\n",
    "print(results)"
   ]
  },
  {
   "cell_type": "code",
   "execution_count": 15,
   "metadata": {},
   "outputs": [
    {
     "data": {
      "image/png": "[encoded data removed]",
      "text/plain": [
       "<Figure size 432x288 with 2 Axes>"
      ]
     },
     "metadata": {
      "needs_background": "light"
     },
     "output_type": "display_data"
    }
   ],
   "source": [
    "from matplotlib import pyplot\n",
    "import seaborn as sns\n",
    "\n",
    "# Only create the confusion matrix when our iris_predictions feature group has examples of all 3 iris flowers\n",
    "if results.shape == (3,3):\n",
    "\n",
    "    df_cm = pd.DataFrame(results, ['True Setosa', 'True Versicolor', 'True Virginica'],\n",
    "                         ['Pred Setosa', 'Pred Versicolor', 'Pred Virginica'])\n",
    "\n",
    "    cm = sns.heatmap(df_cm, annot=True)\n",
    "\n",
    "    fig = cm.get_figure()\n",
    "    fig.savefig(\"../../assets/confusion_matrix.png\") \n",
    "    df_cm\n",
    "else:\n",
    "    print(\"Run the batch inference pipeline more times until you get 3 different iris flowers\")    "
   ]
  },
  {
   "cell_type": "code",
   "execution_count": 16,
   "metadata": {},
   "outputs": [
    {
     "name": "stdout",
     "output_type": "stream",
     "text": [
      "Requirement already satisfied: plotly in c:\\users\\bensn\\anaconda3\\envs\\tf1\\lib\\site-packages (5.6.0)\n",
      "Requirement already satisfied: six in c:\\users\\bensn\\anaconda3\\envs\\tf1\\lib\\site-packages (from plotly) (1.16.0)Note: you may need to restart the kernel to use updated packages.\n"
     ]
    },
    {
     "name": "stderr",
     "output_type": "stream",
     "text": [
      "WARNING: There was an error checking the latest version of pip.\n"
     ]
    },
    {
     "name": "stdout",
     "output_type": "stream",
     "text": [
      "\n",
      "Requirement already satisfied: tenacity>=6.2.0 in c:\\users\\bensn\\anaconda3\\envs\\tf1\\lib\\site-packages (from plotly) (8.0.1)\n",
      "Requirement already satisfied: statsmodels in c:\\users\\bensn\\anaconda3\\envs\\tf1\\lib\\site-packages (0.13.2)\n",
      "Requirement already satisfied: patsy>=0.5.2 in c:\\users\\bensn\\anaconda3\\envs\\tf1\\lib\\site-packages (from statsmodels) (0.5.2)\n",
      "Requirement already satisfied: numpy>=1.17 in c:\\users\\bensn\\anaconda3\\envs\\tf1\\lib\\site-packages (from statsmodels) (1.21.6)\n",
      "Requirement already satisfied: pandas>=0.25 in c:\\users\\bensn\\anaconda3\\envs\\tf1\\lib\\site-packages (from statsmodels) (1.3.5)\n",
      "Requirement already satisfied: packaging>=21.3 in c:\\users\\bensn\\anaconda3\\envs\\tf1\\lib\\site-packages (from statsmodels) (21.3)\n",
      "Requirement already satisfied: scipy>=1.3 in c:\\users\\bensn\\anaconda3\\envs\\tf1\\lib\\site-packages (from statsmodels) (1.6.3)\n",
      "Requirement already satisfied: pyparsing!=3.0.5,>=2.0.2 in c:\\users\\bensn\\anaconda3\\envs\\tf1\\lib\\site-packages (from packaging>=21.3->statsmodels) (2.4.7)\n",
      "Requirement already satisfied: python-dateutil>=2.7.3 in c:\\users\\bensn\\anaconda3\\envs\\tf1\\lib\\site-packages (from pandas>=0.25->statsmodels) (2.8.2)\n",
      "Requirement already satisfied: pytz>=2017.3 in c:\\users\\bensn\\anaconda3\\envs\\tf1\\lib\\site-packages (from pandas>=0.25->statsmodels) (2021.3)\n",
      "Requirement already satisfied: six in c:\\users\\bensn\\anaconda3\\envs\\tf1\\lib\\site-packages (from patsy>=0.5.2->statsmodels) (1.16.0)\n",
      "Note: you may need to restart the kernel to use updated packages.\n"
     ]
    },
    {
     "name": "stderr",
     "output_type": "stream",
     "text": [
      "WARNING: There was an error checking the latest version of pip.\n"
     ]
    },
    {
     "name": "stdout",
     "output_type": "stream",
     "text": [
      "Requirement already satisfied: kaleido in c:\\users\\bensn\\anaconda3\\envs\\tf1\\lib\\site-packages (0.2.1)\n",
      "Note: you may need to restart the kernel to use updated packages.\n"
     ]
    },
    {
     "name": "stderr",
     "output_type": "stream",
     "text": [
      "WARNING: There was an error checking the latest version of pip.\n"
     ]
    }
   ],
   "source": [
    "%pip install plotly\n",
    "%pip install statsmodels\n",
    "%pip install kaleido"
   ]
  },
  {
   "cell_type": "code",
   "execution_count": 17,
   "metadata": {},
   "outputs": [],
   "source": [
    "import plotly.express as px"
   ]
  },
  {
   "cell_type": "code",
   "execution_count": 22,
   "metadata": {},
   "outputs": [],
   "source": [
    "fig = px.scatter(df, x=\"sepal_length\", y=\"sepal_width\", color=\"variety\", title=\"Iris Dataset\", marginal_y=\"violin\", marginal_x=\"box\", trendline=\"ols\", template=\"plotly_dark\")\n",
    "# fig.show()"
   ]
  },
  {
   "cell_type": "code",
   "execution_count": 23,
   "metadata": {},
   "outputs": [],
   "source": [
    "fig.to_html(full_html=False, include_plotlyjs='cdn')\n",
    "fig.write_html(\"../../assets/iris_scatter.html\", full_html=False, include_plotlyjs='cdn')\n",
    "fig.write_image(\"../../assets/scatter_plot.png\")"
   ]
  },
  {
   "cell_type": "code",
   "execution_count": null,
   "metadata": {},
   "outputs": [],
   "source": []
  }
 ],
 "metadata": {
  "colab": {
   "collapsed_sections": [],
   "provenance": []
  },
  "kernelspec": {
   "display_name": "Python 3.7.12 ('tf1')",
   "language": "python",
   "name": "python3"
  },
  "language_info": {
   "codemirror_mode": {
    "name": "ipython",
    "version": 3
   },
   "file_extension": ".py",
   "mimetype": "text/x-python",
   "name": "python",
   "nbconvert_exporter": "python",
   "pygments_lexer": "ipython3",
   "version": "3.7.12"
  },
  "vscode": {
   "interpreter": {
    "hash": "48324878fd09c2ff1755460c6bedcd7035239e95f1ec0df88470a6ba78f59e5a"
   }
  }
 },
 "nbformat": 4,
 "nbformat_minor": 1
}
