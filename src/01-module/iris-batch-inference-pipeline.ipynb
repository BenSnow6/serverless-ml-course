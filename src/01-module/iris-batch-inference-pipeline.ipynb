{
 "cells": [
  {
   "cell_type": "markdown",
   "metadata": {
    "id": "d2kLrOh-bpGy"
   },
   "source": [
    "# Iris Flower - Batch Prediction\n",
    "\n",
    "\n",
    "In this notebook we will, \n",
    "\n",
    "1. Load the batch inference data that arrived in the last 24 hours\n",
    "2. Predict the first Iris Flower found in the batch\n",
    "3. Write the ouput png of the Iris flower predicted, to be displayed in Github Pages."
   ]
  },
  {
   "cell_type": "code",
   "execution_count": 4,
   "metadata": {
    "id": "xRtpj-psbpG8"
   },
   "outputs": [
    {
     "name": "stdout",
     "output_type": "stream",
     "text": [
      "Copy your Api Key (first register/login): https://c.app.hopsworks.ai/account/api/generated\n",
      "Connected. Call `.close()` to terminate connection gracefully.\n",
      "\n",
      "Logged in to project, explore it here https://c.app.hopsworks.ai:443/p/2289\n",
      "Connected. Call `.close()` to terminate connection gracefully.\n"
     ]
    }
   ],
   "source": [
    "import pandas as pd\n",
    "import hopsworks\n",
    "import joblib\n",
    "\n",
    "project = hopsworks.login() # login to Hopsworks\n",
    "fs = project.get_feature_store() # get the feature store"
   ]
  },
  {
   "cell_type": "code",
   "execution_count": 5,
   "metadata": {},
   "outputs": [
    {
     "name": "stdout",
     "output_type": "stream",
     "text": [
      "Connected. Call `.close()` to terminate connection gracefully.\n",
      "Downloading file ... "
     ]
    }
   ],
   "source": [
    "mr = project.get_model_registry()\n",
    "model = mr.get_model(\"iris\", version=1)\n",
    "model_dir = model.download()\n",
    "model = joblib.load(model_dir + \"/iris_model.pkl\")"
   ]
  },
  {
   "cell_type": "markdown",
   "metadata": {},
   "source": [
    "We are downloading the 'raw' iris data. We explicitly do not want transformed data, reading for training. \n",
    "\n",
    "So, let's download the iris dataset, and preview some rows. \n",
    "\n",
    "Note, that it is 'tabular data'. There are 5 columns: 4 of them are \"features\", and the \"variety\" column is the **target** (what we are trying to predict using the 4 feature values in the target's row)."
   ]
  },
  {
   "cell_type": "code",
   "execution_count": 6,
   "metadata": {
    "colab": {
     "base_uri": "https://localhost:8080/",
     "height": 206
    },
    "id": "nRmFM7vcbpHA",
    "outputId": "d920d168-9818-40c5-c292-4cf0afcbbcfd"
   },
   "outputs": [],
   "source": [
    "feature_view = fs.get_feature_view(name=\"iris\", version=1)"
   ]
  },
  {
   "cell_type": "markdown",
   "metadata": {},
   "source": [
    "Now we will do some **Batch Inference**. \n",
    "\n",
    "We will read all the input features that have arrived in the last 24 hours, and score them."
   ]
  },
  {
   "cell_type": "code",
   "execution_count": 7,
   "metadata": {
    "id": "uHuAD3ttP8Ep"
   },
   "outputs": [
    {
     "name": "stderr",
     "output_type": "stream",
     "text": [
      "VersionWarning: No training dataset version was provided to initialise batch scoring . Defaulting to version 1.\n"
     ]
    },
    {
     "name": "stdout",
     "output_type": "stream",
     "text": [
      "2022-10-10 13:04:49,631 INFO: USE `bensnows_featurestore`\n",
      "2022-10-10 13:04:50,604 INFO: SELECT `fg0`.`sepal_length` `sepal_length`, `fg0`.`sepal_width` `sepal_width`, `fg0`.`petal_length` `petal_length`, `fg0`.`petal_width` `petal_width`\n",
      "FROM `bensnows_featurestore`.`iris_1` `fg0`\n"
     ]
    },
    {
     "data": {
      "text/plain": [
       "array(['Setosa', 'Versicolor', 'Virginica', 'Versicolor', 'Setosa',\n",
       "       'Versicolor', 'Virginica', 'Versicolor', 'Setosa', 'Setosa',\n",
       "       'Setosa', 'Setosa', 'Versicolor', 'Virginica', 'Setosa',\n",
       "       'Virginica', 'Versicolor', 'Setosa', 'Versicolor', 'Versicolor',\n",
       "       'Setosa', 'Versicolor', 'Setosa', 'Setosa', 'Versicolor',\n",
       "       'Virginica', 'Virginica', 'Virginica', 'Virginica', 'Versicolor',\n",
       "       'Versicolor', 'Setosa', 'Setosa', 'Virginica', 'Setosa',\n",
       "       'Virginica', 'Setosa', 'Versicolor', 'Virginica', 'Versicolor',\n",
       "       'Virginica', 'Setosa', 'Versicolor', 'Virginica', 'Versicolor',\n",
       "       'Setosa', 'Versicolor', 'Versicolor', 'Virginica', 'Setosa',\n",
       "       'Setosa', 'Virginica', 'Virginica', 'Versicolor', 'Versicolor',\n",
       "       'Virginica', 'Versicolor', 'Versicolor', 'Versicolor', 'Setosa',\n",
       "       'Virginica', 'Virginica', 'Virginica', 'Setosa', 'Virginica',\n",
       "       'Setosa', 'Versicolor', 'Versicolor', 'Setosa', 'Setosa', 'Setosa',\n",
       "       'Virginica', 'Versicolor', 'Versicolor', 'Versicolor', 'Virginica',\n",
       "       'Versicolor', 'Virginica', 'Versicolor', 'Setosa', 'Setosa',\n",
       "       'Setosa', 'Versicolor', 'Virginica', 'Versicolor', 'Setosa',\n",
       "       'Versicolor', 'Virginica', 'Setosa', 'Virginica', 'Virginica',\n",
       "       'Virginica', 'Versicolor', 'Versicolor', 'Versicolor', 'Setosa',\n",
       "       'Setosa', 'Setosa', 'Versicolor', 'Virginica', 'Virginica',\n",
       "       'Setosa', 'Setosa', 'Versicolor', 'Virginica', 'Setosa',\n",
       "       'Versicolor', 'Virginica', 'Versicolor', 'Virginica', 'Setosa',\n",
       "       'Versicolor', 'Virginica', 'Setosa', 'Setosa', 'Versicolor',\n",
       "       'Versicolor', 'Setosa', 'Versicolor', 'Versicolor', 'Virginica',\n",
       "       'Versicolor', 'Setosa', 'Virginica', 'Versicolor', 'Virginica',\n",
       "       'Versicolor', 'Virginica', 'Virginica', 'Setosa', 'Versicolor',\n",
       "       'Versicolor', 'Setosa', 'Setosa', 'Virginica', 'Versicolor',\n",
       "       'Versicolor', 'Setosa', 'Setosa', 'Versicolor', 'Setosa',\n",
       "       'Virginica', 'Setosa', 'Setosa', 'Versicolor', 'Virginica',\n",
       "       'Virginica', 'Virginica', 'Setosa', 'Virginica', 'Versicolor',\n",
       "       'Setosa', 'Versicolor', 'Setosa', 'Setosa', 'Versicolor', 'Setosa',\n",
       "       'Setosa', 'Virginica', 'Virginica', 'Virginica', 'Virginica',\n",
       "       'Setosa', 'Versicolor', 'Versicolor', 'Setosa', 'Virginica',\n",
       "       'Virginica', 'Virginica', 'Setosa', 'Setosa', 'Virginica',\n",
       "       'Virginica', 'Versicolor', 'Versicolor', 'Virginica', 'Versicolor',\n",
       "       'Setosa', 'Setosa', 'Virginica', 'Versicolor', 'Versicolor',\n",
       "       'Versicolor', 'Setosa', 'Setosa', 'Virginica'], dtype=object)"
      ]
     },
     "execution_count": 7,
     "metadata": {},
     "output_type": "execute_result"
    }
   ],
   "source": [
    "import datetime\n",
    "from PIL import Image\n",
    "\n",
    "batch_data = feature_view.get_batch_data()\n",
    "\n",
    "y_pred = model.predict(batch_data)\n",
    "\n",
    "y_pred"
   ]
  },
  {
   "cell_type": "code",
   "execution_count": 8,
   "metadata": {},
   "outputs": [
    {
     "data": {
      "text/html": [
       "<div>\n",
       "<style scoped>\n",
       "    .dataframe tbody tr th:only-of-type {\n",
       "        vertical-align: middle;\n",
       "    }\n",
       "\n",
       "    .dataframe tbody tr th {\n",
       "        vertical-align: top;\n",
       "    }\n",
       "\n",
       "    .dataframe thead th {\n",
       "        text-align: right;\n",
       "    }\n",
       "</style>\n",
       "<table border=\"1\" class=\"dataframe\">\n",
       "  <thead>\n",
       "    <tr style=\"text-align: right;\">\n",
       "      <th></th>\n",
       "      <th>sepal_length</th>\n",
       "      <th>sepal_width</th>\n",
       "      <th>petal_length</th>\n",
       "      <th>petal_width</th>\n",
       "    </tr>\n",
       "  </thead>\n",
       "  <tbody>\n",
       "    <tr>\n",
       "      <th>0</th>\n",
       "      <td>5.700000</td>\n",
       "      <td>3.800000</td>\n",
       "      <td>1.700000</td>\n",
       "      <td>0.300000</td>\n",
       "    </tr>\n",
       "    <tr>\n",
       "      <th>1</th>\n",
       "      <td>5.600000</td>\n",
       "      <td>2.700000</td>\n",
       "      <td>4.200000</td>\n",
       "      <td>1.300000</td>\n",
       "    </tr>\n",
       "    <tr>\n",
       "      <th>2</th>\n",
       "      <td>6.300000</td>\n",
       "      <td>3.300000</td>\n",
       "      <td>6.000000</td>\n",
       "      <td>2.500000</td>\n",
       "    </tr>\n",
       "    <tr>\n",
       "      <th>3</th>\n",
       "      <td>6.000000</td>\n",
       "      <td>2.900000</td>\n",
       "      <td>4.500000</td>\n",
       "      <td>1.500000</td>\n",
       "    </tr>\n",
       "    <tr>\n",
       "      <th>4</th>\n",
       "      <td>5.000000</td>\n",
       "      <td>3.000000</td>\n",
       "      <td>1.600000</td>\n",
       "      <td>0.200000</td>\n",
       "    </tr>\n",
       "    <tr>\n",
       "      <th>...</th>\n",
       "      <td>...</td>\n",
       "      <td>...</td>\n",
       "      <td>...</td>\n",
       "      <td>...</td>\n",
       "    </tr>\n",
       "    <tr>\n",
       "      <th>181</th>\n",
       "      <td>5.118006</td>\n",
       "      <td>2.748841</td>\n",
       "      <td>3.694070</td>\n",
       "      <td>1.078418</td>\n",
       "    </tr>\n",
       "    <tr>\n",
       "      <th>182</th>\n",
       "      <td>4.609999</td>\n",
       "      <td>2.239757</td>\n",
       "      <td>5.074781</td>\n",
       "      <td>1.163552</td>\n",
       "    </tr>\n",
       "    <tr>\n",
       "      <th>183</th>\n",
       "      <td>4.589666</td>\n",
       "      <td>2.880149</td>\n",
       "      <td>1.599484</td>\n",
       "      <td>0.599941</td>\n",
       "    </tr>\n",
       "    <tr>\n",
       "      <th>184</th>\n",
       "      <td>5.051212</td>\n",
       "      <td>2.862281</td>\n",
       "      <td>1.708026</td>\n",
       "      <td>0.412463</td>\n",
       "    </tr>\n",
       "    <tr>\n",
       "      <th>185</th>\n",
       "      <td>5.784761</td>\n",
       "      <td>3.743324</td>\n",
       "      <td>5.128598</td>\n",
       "      <td>2.426429</td>\n",
       "    </tr>\n",
       "  </tbody>\n",
       "</table>\n",
       "<p>186 rows × 4 columns</p>\n",
       "</div>"
      ],
      "text/plain": [
       "     sepal_length  sepal_width  petal_length  petal_width\n",
       "0        5.700000     3.800000      1.700000     0.300000\n",
       "1        5.600000     2.700000      4.200000     1.300000\n",
       "2        6.300000     3.300000      6.000000     2.500000\n",
       "3        6.000000     2.900000      4.500000     1.500000\n",
       "4        5.000000     3.000000      1.600000     0.200000\n",
       "..            ...          ...           ...          ...\n",
       "181      5.118006     2.748841      3.694070     1.078418\n",
       "182      4.609999     2.239757      5.074781     1.163552\n",
       "183      4.589666     2.880149      1.599484     0.599941\n",
       "184      5.051212     2.862281      1.708026     0.412463\n",
       "185      5.784761     3.743324      5.128598     2.426429\n",
       "\n",
       "[186 rows x 4 columns]"
      ]
     },
     "execution_count": 8,
     "metadata": {},
     "output_type": "execute_result"
    }
   ],
   "source": [
    "batch_data"
   ]
  },
  {
   "cell_type": "markdown",
   "metadata": {},
   "source": [
    "Batch prediction output is the last entry in the batch - it is output as a file 'latest_iris.png'"
   ]
  },
  {
   "cell_type": "code",
   "execution_count": 9,
   "metadata": {},
   "outputs": [],
   "source": [
    "flower = y_pred[y_pred.size-1]\n",
    "flower_img = \"assets/\" + flower + \".png\"\n",
    "img = Image.open(flower_img)            \n",
    "\n",
    "img.save(\"../../assets/module1/latest_iris.png\")"
   ]
  },
  {
   "cell_type": "code",
   "execution_count": 10,
   "metadata": {},
   "outputs": [
    {
     "name": "stdout",
     "output_type": "stream",
     "text": [
      "2022-10-10 13:04:55,340 INFO: USE `bensnows_featurestore`\n",
      "2022-10-10 13:04:56,319 INFO: SELECT `fg0`.`sepal_length` `sepal_length`, `fg0`.`sepal_width` `sepal_width`, `fg0`.`petal_length` `petal_length`, `fg0`.`petal_width` `petal_width`, `fg0`.`variety` `variety`\n",
      "FROM `bensnows_featurestore`.`iris_1` `fg0`\n"
     ]
    },
    {
     "data": {
      "text/html": [
       "<div>\n",
       "<style scoped>\n",
       "    .dataframe tbody tr th:only-of-type {\n",
       "        vertical-align: middle;\n",
       "    }\n",
       "\n",
       "    .dataframe tbody tr th {\n",
       "        vertical-align: top;\n",
       "    }\n",
       "\n",
       "    .dataframe thead th {\n",
       "        text-align: right;\n",
       "    }\n",
       "</style>\n",
       "<table border=\"1\" class=\"dataframe\">\n",
       "  <thead>\n",
       "    <tr style=\"text-align: right;\">\n",
       "      <th></th>\n",
       "      <th>sepal_length</th>\n",
       "      <th>sepal_width</th>\n",
       "      <th>petal_length</th>\n",
       "      <th>petal_width</th>\n",
       "      <th>variety</th>\n",
       "    </tr>\n",
       "  </thead>\n",
       "  <tbody>\n",
       "    <tr>\n",
       "      <th>0</th>\n",
       "      <td>5.700000</td>\n",
       "      <td>3.800000</td>\n",
       "      <td>1.700000</td>\n",
       "      <td>0.300000</td>\n",
       "      <td>Setosa</td>\n",
       "    </tr>\n",
       "    <tr>\n",
       "      <th>1</th>\n",
       "      <td>5.600000</td>\n",
       "      <td>2.700000</td>\n",
       "      <td>4.200000</td>\n",
       "      <td>1.300000</td>\n",
       "      <td>Versicolor</td>\n",
       "    </tr>\n",
       "    <tr>\n",
       "      <th>2</th>\n",
       "      <td>6.300000</td>\n",
       "      <td>3.300000</td>\n",
       "      <td>6.000000</td>\n",
       "      <td>2.500000</td>\n",
       "      <td>Virginica</td>\n",
       "    </tr>\n",
       "    <tr>\n",
       "      <th>3</th>\n",
       "      <td>6.000000</td>\n",
       "      <td>2.900000</td>\n",
       "      <td>4.500000</td>\n",
       "      <td>1.500000</td>\n",
       "      <td>Versicolor</td>\n",
       "    </tr>\n",
       "    <tr>\n",
       "      <th>4</th>\n",
       "      <td>5.000000</td>\n",
       "      <td>3.000000</td>\n",
       "      <td>1.600000</td>\n",
       "      <td>0.200000</td>\n",
       "      <td>Setosa</td>\n",
       "    </tr>\n",
       "    <tr>\n",
       "      <th>...</th>\n",
       "      <td>...</td>\n",
       "      <td>...</td>\n",
       "      <td>...</td>\n",
       "      <td>...</td>\n",
       "      <td>...</td>\n",
       "    </tr>\n",
       "    <tr>\n",
       "      <th>181</th>\n",
       "      <td>5.118006</td>\n",
       "      <td>2.748841</td>\n",
       "      <td>3.694070</td>\n",
       "      <td>1.078418</td>\n",
       "      <td>Versicolor</td>\n",
       "    </tr>\n",
       "    <tr>\n",
       "      <th>182</th>\n",
       "      <td>4.609999</td>\n",
       "      <td>2.239757</td>\n",
       "      <td>5.074781</td>\n",
       "      <td>1.163552</td>\n",
       "      <td>Versicolor</td>\n",
       "    </tr>\n",
       "    <tr>\n",
       "      <th>183</th>\n",
       "      <td>4.589666</td>\n",
       "      <td>2.880149</td>\n",
       "      <td>1.599484</td>\n",
       "      <td>0.599941</td>\n",
       "      <td>Setosa</td>\n",
       "    </tr>\n",
       "    <tr>\n",
       "      <th>184</th>\n",
       "      <td>5.051212</td>\n",
       "      <td>2.862281</td>\n",
       "      <td>1.708026</td>\n",
       "      <td>0.412463</td>\n",
       "      <td>Setosa</td>\n",
       "    </tr>\n",
       "    <tr>\n",
       "      <th>185</th>\n",
       "      <td>5.784761</td>\n",
       "      <td>3.743324</td>\n",
       "      <td>5.128598</td>\n",
       "      <td>2.426429</td>\n",
       "      <td>Virginica</td>\n",
       "    </tr>\n",
       "  </tbody>\n",
       "</table>\n",
       "<p>186 rows × 5 columns</p>\n",
       "</div>"
      ],
      "text/plain": [
       "     sepal_length  sepal_width  petal_length  petal_width     variety\n",
       "0        5.700000     3.800000      1.700000     0.300000      Setosa\n",
       "1        5.600000     2.700000      4.200000     1.300000  Versicolor\n",
       "2        6.300000     3.300000      6.000000     2.500000   Virginica\n",
       "3        6.000000     2.900000      4.500000     1.500000  Versicolor\n",
       "4        5.000000     3.000000      1.600000     0.200000      Setosa\n",
       "..            ...          ...           ...          ...         ...\n",
       "181      5.118006     2.748841      3.694070     1.078418  Versicolor\n",
       "182      4.609999     2.239757      5.074781     1.163552  Versicolor\n",
       "183      4.589666     2.880149      1.599484     0.599941      Setosa\n",
       "184      5.051212     2.862281      1.708026     0.412463      Setosa\n",
       "185      5.784761     3.743324      5.128598     2.426429   Virginica\n",
       "\n",
       "[186 rows x 5 columns]"
      ]
     },
     "execution_count": 10,
     "metadata": {},
     "output_type": "execute_result"
    }
   ],
   "source": [
    "iris_fg = fs.get_feature_group(name=\"iris\", version=1)\n",
    "df = iris_fg.read()\n",
    "df"
   ]
  },
  {
   "cell_type": "code",
   "execution_count": 11,
   "metadata": {},
   "outputs": [
    {
     "data": {
      "text/plain": [
       "'Virginica'"
      ]
     },
     "execution_count": 11,
     "metadata": {},
     "output_type": "execute_result"
    }
   ],
   "source": [
    "label = df.iloc[-1][\"variety\"]\n",
    "label"
   ]
  },
  {
   "cell_type": "code",
   "execution_count": 12,
   "metadata": {},
   "outputs": [],
   "source": [
    "label_flower = \"assets/\" + label + \".png\"\n",
    "\n",
    "img = Image.open(label_flower)            \n",
    "\n",
    "img.save(\"../../assets/module1/actual_iris.png\")"
   ]
  },
  {
   "cell_type": "code",
   "execution_count": 13,
   "metadata": {},
   "outputs": [],
   "source": [
    "import pandas as pd\n",
    "# get or create the feature group\n",
    "monitor_fg = fs.get_or_create_feature_group(name=\"iris_predictions\",\n",
    "                                  version=1,\n",
    "                                  primary_key=[\"datetime\"], # Set the primary key\n",
    "                                  description=\"Iris flower Prediction/Outcome Monitoring\"\n",
    "                                 )"
   ]
  },
  {
   "cell_type": "code",
   "execution_count": 14,
   "metadata": {},
   "outputs": [
    {
     "name": "stderr",
     "output_type": "stream",
     "text": [
      "Uploading Dataframe: 100.00% |██████████| Rows 1/1 | Elapsed Time: 00:01 | Remaining Time: 00:00\n"
     ]
    },
    {
     "name": "stdout",
     "output_type": "stream",
     "text": [
      "Launching offline feature group backfill job...\n",
      "Backfill Job started successfully, you can follow the progress at \n",
      "https://c.app.hopsworks.ai/p/2289/jobs/named/iris_predictions_1_offline_fg_backfill/executions\n"
     ]
    },
    {
     "data": {
      "text/plain": [
       "(<hsfs.core.job.Job at 0x20d5aa22388>, None)"
      ]
     },
     "execution_count": 14,
     "metadata": {},
     "output_type": "execute_result"
    }
   ],
   "source": [
    "from datetime import datetime\n",
    "now = datetime.now().strftime(\"%m/%d/%Y, %H:%M:%S\") # Get the current time\n",
    "metadata = {\n",
    "    'prediction': [flower], # The prediction\n",
    "    'label': [label], # The ground truth label\n",
    "    'datetime': [now], # The time of the prediction\n",
    "}\n",
    "monitor_df = pd.DataFrame(metadata) # Create a dataframe from the metadata\n",
    "monitor_fg.insert(monitor_df) # insert into our monitoring feature group"
   ]
  },
  {
   "cell_type": "code",
   "execution_count": 15,
   "metadata": {},
   "outputs": [
    {
     "name": "stdout",
     "output_type": "stream",
     "text": [
      "2022-10-10 13:05:58,605 INFO: USE `bensnows_featurestore`\n",
      "2022-10-10 13:05:59,607 INFO: SELECT `fg0`.`prediction` `prediction`, `fg0`.`label` `label`, `fg0`.`datetime` `datetime`\n",
      "FROM `bensnows_featurestore`.`iris_predictions_1` `fg0`\n"
     ]
    },
    {
     "data": {
      "text/html": [
       "<div>\n",
       "<style scoped>\n",
       "    .dataframe tbody tr th:only-of-type {\n",
       "        vertical-align: middle;\n",
       "    }\n",
       "\n",
       "    .dataframe tbody tr th {\n",
       "        vertical-align: top;\n",
       "    }\n",
       "\n",
       "    .dataframe thead th {\n",
       "        text-align: right;\n",
       "    }\n",
       "</style>\n",
       "<table border=\"1\" class=\"dataframe\">\n",
       "  <thead>\n",
       "    <tr style=\"text-align: right;\">\n",
       "      <th></th>\n",
       "      <th>prediction</th>\n",
       "      <th>label</th>\n",
       "      <th>datetime</th>\n",
       "    </tr>\n",
       "  </thead>\n",
       "  <tbody>\n",
       "    <tr>\n",
       "      <th>0</th>\n",
       "      <td>Virginica</td>\n",
       "      <td>Virginica</td>\n",
       "      <td>10/06/2022, 14:09:17</td>\n",
       "    </tr>\n",
       "    <tr>\n",
       "      <th>1</th>\n",
       "      <td>Setosa</td>\n",
       "      <td>Setosa</td>\n",
       "      <td>10/06/2022, 14:27:44</td>\n",
       "    </tr>\n",
       "    <tr>\n",
       "      <th>2</th>\n",
       "      <td>Versicolor</td>\n",
       "      <td>Versicolor</td>\n",
       "      <td>10/06/2022, 14:31:14</td>\n",
       "    </tr>\n",
       "    <tr>\n",
       "      <th>3</th>\n",
       "      <td>Setosa</td>\n",
       "      <td>Setosa</td>\n",
       "      <td>10/06/2022, 15:17:12</td>\n",
       "    </tr>\n",
       "    <tr>\n",
       "      <th>4</th>\n",
       "      <td>Versicolor</td>\n",
       "      <td>Versicolor</td>\n",
       "      <td>10/07/2022, 11:32:06</td>\n",
       "    </tr>\n",
       "    <tr>\n",
       "      <th>5</th>\n",
       "      <td>Setosa</td>\n",
       "      <td>Setosa</td>\n",
       "      <td>10/07/2022, 12:03:33</td>\n",
       "    </tr>\n",
       "    <tr>\n",
       "      <th>6</th>\n",
       "      <td>Setosa</td>\n",
       "      <td>Setosa</td>\n",
       "      <td>10/08/2022, 11:28:02</td>\n",
       "    </tr>\n",
       "    <tr>\n",
       "      <th>7</th>\n",
       "      <td>Setosa</td>\n",
       "      <td>Setosa</td>\n",
       "      <td>10/08/2022, 15:53:15</td>\n",
       "    </tr>\n",
       "    <tr>\n",
       "      <th>8</th>\n",
       "      <td>Setosa</td>\n",
       "      <td>Setosa</td>\n",
       "      <td>10/08/2022, 17:13:17</td>\n",
       "    </tr>\n",
       "    <tr>\n",
       "      <th>9</th>\n",
       "      <td>Virginica</td>\n",
       "      <td>Virginica</td>\n",
       "      <td>10/08/2022, 20:39:18</td>\n",
       "    </tr>\n",
       "    <tr>\n",
       "      <th>10</th>\n",
       "      <td>Virginica</td>\n",
       "      <td>Virginica</td>\n",
       "      <td>10/08/2022, 21:41:37</td>\n",
       "    </tr>\n",
       "    <tr>\n",
       "      <th>11</th>\n",
       "      <td>Virginica</td>\n",
       "      <td>Virginica</td>\n",
       "      <td>10/08/2022, 20:46:44</td>\n",
       "    </tr>\n",
       "    <tr>\n",
       "      <th>12</th>\n",
       "      <td>Virginica</td>\n",
       "      <td>Virginica</td>\n",
       "      <td>10/08/2022, 21:34:24</td>\n",
       "    </tr>\n",
       "    <tr>\n",
       "      <th>13</th>\n",
       "      <td>Virginica</td>\n",
       "      <td>Virginica</td>\n",
       "      <td>10/08/2022, 21:49:20</td>\n",
       "    </tr>\n",
       "    <tr>\n",
       "      <th>14</th>\n",
       "      <td>Setosa</td>\n",
       "      <td>Setosa</td>\n",
       "      <td>10/08/2022, 21:55:44</td>\n",
       "    </tr>\n",
       "    <tr>\n",
       "      <th>15</th>\n",
       "      <td>Versicolor</td>\n",
       "      <td>Versicolor</td>\n",
       "      <td>10/08/2022, 22:04:12</td>\n",
       "    </tr>\n",
       "    <tr>\n",
       "      <th>16</th>\n",
       "      <td>Versicolor</td>\n",
       "      <td>Versicolor</td>\n",
       "      <td>10/08/2022, 22:20:38</td>\n",
       "    </tr>\n",
       "    <tr>\n",
       "      <th>17</th>\n",
       "      <td>Setosa</td>\n",
       "      <td>Setosa</td>\n",
       "      <td>10/09/2022, 10:30:11</td>\n",
       "    </tr>\n",
       "    <tr>\n",
       "      <th>18</th>\n",
       "      <td>Virginica</td>\n",
       "      <td>Virginica</td>\n",
       "      <td>10/09/2022, 10:42:47</td>\n",
       "    </tr>\n",
       "    <tr>\n",
       "      <th>19</th>\n",
       "      <td>Virginica</td>\n",
       "      <td>Virginica</td>\n",
       "      <td>10/09/2022, 11:00:39</td>\n",
       "    </tr>\n",
       "    <tr>\n",
       "      <th>20</th>\n",
       "      <td>Virginica</td>\n",
       "      <td>Virginica</td>\n",
       "      <td>10/09/2022, 11:28:58</td>\n",
       "    </tr>\n",
       "    <tr>\n",
       "      <th>21</th>\n",
       "      <td>Setosa</td>\n",
       "      <td>Setosa</td>\n",
       "      <td>10/10/2022, 09:02:40</td>\n",
       "    </tr>\n",
       "    <tr>\n",
       "      <th>22</th>\n",
       "      <td>Setosa</td>\n",
       "      <td>Setosa</td>\n",
       "      <td>10/10/2022, 09:36:53</td>\n",
       "    </tr>\n",
       "    <tr>\n",
       "      <th>23</th>\n",
       "      <td>Virginica</td>\n",
       "      <td>Virginica</td>\n",
       "      <td>10/10/2022, 09:43:50</td>\n",
       "    </tr>\n",
       "    <tr>\n",
       "      <th>24</th>\n",
       "      <td>Virginica</td>\n",
       "      <td>Virginica</td>\n",
       "      <td>10/10/2022, 09:58:56</td>\n",
       "    </tr>\n",
       "    <tr>\n",
       "      <th>25</th>\n",
       "      <td>Versicolor</td>\n",
       "      <td>Versicolor</td>\n",
       "      <td>10/10/2022, 10:11:47</td>\n",
       "    </tr>\n",
       "    <tr>\n",
       "      <th>26</th>\n",
       "      <td>Versicolor</td>\n",
       "      <td>Versicolor</td>\n",
       "      <td>10/10/2022, 10:22:27</td>\n",
       "    </tr>\n",
       "    <tr>\n",
       "      <th>27</th>\n",
       "      <td>Versicolor</td>\n",
       "      <td>Versicolor</td>\n",
       "      <td>10/10/2022, 10:42:11</td>\n",
       "    </tr>\n",
       "    <tr>\n",
       "      <th>28</th>\n",
       "      <td>Setosa</td>\n",
       "      <td>Setosa</td>\n",
       "      <td>10/10/2022, 10:49:09</td>\n",
       "    </tr>\n",
       "    <tr>\n",
       "      <th>29</th>\n",
       "      <td>Setosa</td>\n",
       "      <td>Setosa</td>\n",
       "      <td>10/10/2022, 10:55:41</td>\n",
       "    </tr>\n",
       "    <tr>\n",
       "      <th>30</th>\n",
       "      <td>Virginica</td>\n",
       "      <td>Virginica</td>\n",
       "      <td>10/10/2022, 11:03:26</td>\n",
       "    </tr>\n",
       "    <tr>\n",
       "      <th>31</th>\n",
       "      <td>Versicolor</td>\n",
       "      <td>Versicolor</td>\n",
       "      <td>10/10/2022, 11:21:57</td>\n",
       "    </tr>\n",
       "    <tr>\n",
       "      <th>32</th>\n",
       "      <td>Versicolor</td>\n",
       "      <td>Versicolor</td>\n",
       "      <td>10/10/2022, 11:30:36</td>\n",
       "    </tr>\n",
       "    <tr>\n",
       "      <th>33</th>\n",
       "      <td>Versicolor</td>\n",
       "      <td>Versicolor</td>\n",
       "      <td>10/10/2022, 11:38:09</td>\n",
       "    </tr>\n",
       "    <tr>\n",
       "      <th>34</th>\n",
       "      <td>Setosa</td>\n",
       "      <td>Setosa</td>\n",
       "      <td>10/10/2022, 11:46:23</td>\n",
       "    </tr>\n",
       "    <tr>\n",
       "      <th>35</th>\n",
       "      <td>Setosa</td>\n",
       "      <td>Setosa</td>\n",
       "      <td>10/10/2022, 11:55:54</td>\n",
       "    </tr>\n",
       "    <tr>\n",
       "      <th>36</th>\n",
       "      <td>Virginica</td>\n",
       "      <td>Virginica</td>\n",
       "      <td>10/10/2022, 12:01:42</td>\n",
       "    </tr>\n",
       "    <tr>\n",
       "      <th>37</th>\n",
       "      <td>Virginica</td>\n",
       "      <td>Virginica</td>\n",
       "      <td>10/10/2022, 13:04:58</td>\n",
       "    </tr>\n",
       "  </tbody>\n",
       "</table>\n",
       "</div>"
      ],
      "text/plain": [
       "    prediction       label              datetime\n",
       "0    Virginica   Virginica  10/06/2022, 14:09:17\n",
       "1       Setosa      Setosa  10/06/2022, 14:27:44\n",
       "2   Versicolor  Versicolor  10/06/2022, 14:31:14\n",
       "3       Setosa      Setosa  10/06/2022, 15:17:12\n",
       "4   Versicolor  Versicolor  10/07/2022, 11:32:06\n",
       "5       Setosa      Setosa  10/07/2022, 12:03:33\n",
       "6       Setosa      Setosa  10/08/2022, 11:28:02\n",
       "7       Setosa      Setosa  10/08/2022, 15:53:15\n",
       "8       Setosa      Setosa  10/08/2022, 17:13:17\n",
       "9    Virginica   Virginica  10/08/2022, 20:39:18\n",
       "10   Virginica   Virginica  10/08/2022, 21:41:37\n",
       "11   Virginica   Virginica  10/08/2022, 20:46:44\n",
       "12   Virginica   Virginica  10/08/2022, 21:34:24\n",
       "13   Virginica   Virginica  10/08/2022, 21:49:20\n",
       "14      Setosa      Setosa  10/08/2022, 21:55:44\n",
       "15  Versicolor  Versicolor  10/08/2022, 22:04:12\n",
       "16  Versicolor  Versicolor  10/08/2022, 22:20:38\n",
       "17      Setosa      Setosa  10/09/2022, 10:30:11\n",
       "18   Virginica   Virginica  10/09/2022, 10:42:47\n",
       "19   Virginica   Virginica  10/09/2022, 11:00:39\n",
       "20   Virginica   Virginica  10/09/2022, 11:28:58\n",
       "21      Setosa      Setosa  10/10/2022, 09:02:40\n",
       "22      Setosa      Setosa  10/10/2022, 09:36:53\n",
       "23   Virginica   Virginica  10/10/2022, 09:43:50\n",
       "24   Virginica   Virginica  10/10/2022, 09:58:56\n",
       "25  Versicolor  Versicolor  10/10/2022, 10:11:47\n",
       "26  Versicolor  Versicolor  10/10/2022, 10:22:27\n",
       "27  Versicolor  Versicolor  10/10/2022, 10:42:11\n",
       "28      Setosa      Setosa  10/10/2022, 10:49:09\n",
       "29      Setosa      Setosa  10/10/2022, 10:55:41\n",
       "30   Virginica   Virginica  10/10/2022, 11:03:26\n",
       "31  Versicolor  Versicolor  10/10/2022, 11:21:57\n",
       "32  Versicolor  Versicolor  10/10/2022, 11:30:36\n",
       "33  Versicolor  Versicolor  10/10/2022, 11:38:09\n",
       "34      Setosa      Setosa  10/10/2022, 11:46:23\n",
       "35      Setosa      Setosa  10/10/2022, 11:55:54\n",
       "36   Virginica   Virginica  10/10/2022, 12:01:42\n",
       "37   Virginica   Virginica  10/10/2022, 13:04:58"
      ]
     },
     "execution_count": 15,
     "metadata": {},
     "output_type": "execute_result"
    }
   ],
   "source": [
    "history_df = monitor_fg.read() # Read the monitoring feature group into a dataframe\n",
    "history_df "
   ]
  },
  {
   "cell_type": "code",
   "execution_count": 16,
   "metadata": {},
   "outputs": [],
   "source": [
    "import dataframe_image as dfi # for dataframe snapshot\n",
    "\n",
    "df_recent = history_df.tail(5) # Get the last 5 predictions\n",
    " \n",
    "# If you exclude this image, you may have the same iris_latest.png and iris_actual.png files\n",
    "# If no files have changed, the GH-action 'git commit/push' stage fails, failing your GH action (last step)\n",
    "# This image, however, is always new, ensuring git commit/push will succeed.\n",
    "dfi.export(df_recent, '../../assets/module1/df_recent.png') # Save the dataframe as an image"
   ]
  },
  {
   "cell_type": "code",
   "execution_count": 17,
   "metadata": {},
   "outputs": [
    {
     "name": "stdout",
     "output_type": "stream",
     "text": [
      "[[14  0  0]\n",
      " [ 0 10  0]\n",
      " [ 0  0 14]]\n"
     ]
    }
   ],
   "source": [
    "from sklearn.metrics import confusion_matrix\n",
    "\n",
    "predictions = history_df[['prediction']]\n",
    "labels = history_df[['label']]\n",
    "\n",
    "results = confusion_matrix(labels, predictions)\n",
    "print(results)"
   ]
  },
  {
   "cell_type": "code",
   "execution_count": 18,
   "metadata": {},
   "outputs": [
    {
     "data": {
      "image/png": "[encoded data removed]",
      "text/plain": [
       "<Figure size 432x288 with 2 Axes>"
      ]
     },
     "metadata": {
      "needs_background": "light"
     },
     "output_type": "display_data"
    }
   ],
   "source": [
    "from matplotlib import pyplot\n",
    "import seaborn as sns\n",
    "\n",
    "# Only create the confusion matrix when our iris_predictions feature group has examples of all 3 iris flowers\n",
    "if results.shape == (3,3):\n",
    "\n",
    "    df_cm = pd.DataFrame(results, ['True Setosa', 'True Versicolor', 'True Virginica'],\n",
    "                         ['Pred Setosa', 'Pred Versicolor', 'Pred Virginica'])\n",
    "\n",
    "    cm = sns.heatmap(df_cm, annot=True)\n",
    "\n",
    "    fig = cm.get_figure()\n",
    "    fig.savefig(\"../../assets/module1/confusion_matrix.png\") \n",
    "    df_cm\n",
    "else:\n",
    "    print(\"Run the batch inference pipeline more times until you get 3 different iris flowers\")    "
   ]
  },
  {
   "cell_type": "code",
   "execution_count": 19,
   "metadata": {},
   "outputs": [],
   "source": [
    "import plotly.express as px"
   ]
  },
  {
   "cell_type": "code",
   "execution_count": 20,
   "metadata": {},
   "outputs": [],
   "source": [
    "fig = px.scatter(df, x=\"sepal_length\", y=\"sepal_width\", color=\"variety\", title=\"Iris Dataset\", marginal_y=\"violin\", marginal_x=\"box\", trendline=\"ols\", template=\"plotly\")"
   ]
  },
  {
   "cell_type": "code",
   "execution_count": 21,
   "metadata": {},
   "outputs": [
    {
     "data": {
      "application/vnd.plotly.v1+json": {
       "config": {
        "plotlyServerURL": "https://plot.ly"
       },
       "data": [
        {
         "hovertemplate": "variety=Setosa<br>sepal_length=%{x}<br>sepal_width=%{y}<extra></extra>",
         "legendgroup": "Setosa",
         "marker": {
          "color": "#636efa",
          "symbol": "circle"
         },
         "mode": "markers",
         "name": "Setosa",
         "orientation": "v",
         "showlegend": true,
         "type": "scatter",
         "x": [
          5.7,
          5,
          5.2,
          4.4,
          5.4,
          5,
          5.4,
          5.1,
          5.4,
          5.1,
          4.9,
          4.6,
          4.9,
          5.5,
          5,
          5,
          4.8,
          4.6,
          4.4,
          4.9,
          5.1,
          5.4,
          4.8,
          5.3,
          4.6,
          4.7,
          5.1,
          5.7,
          5,
          5.4,
          5.1,
          5.2,
          4.3,
          4.4,
          5.1,
          5.2,
          4.5,
          4.7,
          5,
          5.1,
          4.6,
          4.8,
          4.8,
          4.9,
          4.8,
          5,
          5.5,
          5.8,
          5.1,
          5,
          4.699539350414602,
          5.162807076989869,
          5.806816640770069,
          5.750154021366109,
          5.9456276792405935,
          5.678182494265637,
          5.780573675918045,
          5.7564843907007175,
          5.203711616532096,
          4.9552376142146795,
          4.676796886616282,
          4.589666446093098,
          5.051211752089524
         ],
         "xaxis": "x",
         "y": [
          3.8,
          3,
          4.1,
          3,
          3.7,
          3.6,
          3.4,
          3.8,
          3.9,
          3.8,
          3.6,
          3.4,
          3.1,
          3.5,
          3.2,
          3.3,
          3.4,
          3.2,
          2.9,
          3,
          3.8,
          3.9,
          3,
          3.7,
          3.1,
          3.2,
          3.4,
          4.4,
          3.5,
          3.4,
          3.5,
          3.5,
          3,
          3.2,
          3.3,
          3.4,
          2.3,
          3.2,
          3.5,
          3.5,
          3.6,
          3.1,
          3,
          3.1,
          3.4,
          3.4,
          4.2,
          4,
          3.7,
          3.4,
          3.723655124379593,
          3.276133220743199,
          3.110153669496898,
          2.486839314450452,
          3.2651880571146235,
          3.96238612497271,
          3.464638931349484,
          3.1156627605998244,
          3.248892124865317,
          2.7372650288298774,
          2.9399118270607505,
          2.880148538126252,
          2.862281216018885
         ],
         "yaxis": "y"
        },
        {
         "alignmentgroup": "True",
         "hovertemplate": "variety=Setosa<br>sepal_length=%{x}<extra></extra>",
         "legendgroup": "Setosa",
         "marker": {
          "color": "#636efa",
          "symbol": "circle"
         },
         "name": "Setosa",
         "notched": true,
         "offsetgroup": "Setosa",
         "showlegend": false,
         "type": "box",
         "x": [
          5.7,
          5,
          5.2,
          4.4,
          5.4,
          5,
          5.4,
          5.1,
          5.4,
          5.1,
          4.9,
          4.6,
          4.9,
          5.5,
          5,
          5,
          4.8,
          4.6,
          4.4,
          4.9,
          5.1,
          5.4,
          4.8,
          5.3,
          4.6,
          4.7,
          5.1,
          5.7,
          5,
          5.4,
          5.1,
          5.2,
          4.3,
          4.4,
          5.1,
          5.2,
          4.5,
          4.7,
          5,
          5.1,
          4.6,
          4.8,
          4.8,
          4.9,
          4.8,
          5,
          5.5,
          5.8,
          5.1,
          5,
          4.699539350414602,
          5.162807076989869,
          5.806816640770069,
          5.750154021366109,
          5.9456276792405935,
          5.678182494265637,
          5.780573675918045,
          5.7564843907007175,
          5.203711616532096,
          4.9552376142146795,
          4.676796886616282,
          4.589666446093098,
          5.051211752089524
         ],
         "xaxis": "x3",
         "yaxis": "y3"
        },
        {
         "alignmentgroup": "True",
         "hovertemplate": "variety=Setosa<br>sepal_width=%{y}<extra></extra>",
         "legendgroup": "Setosa",
         "marker": {
          "color": "#636efa",
          "symbol": "circle"
         },
         "name": "Setosa",
         "offsetgroup": "Setosa",
         "scalegroup": "y",
         "showlegend": false,
         "type": "violin",
         "xaxis": "x2",
         "y": [
          3.8,
          3,
          4.1,
          3,
          3.7,
          3.6,
          3.4,
          3.8,
          3.9,
          3.8,
          3.6,
          3.4,
          3.1,
          3.5,
          3.2,
          3.3,
          3.4,
          3.2,
          2.9,
          3,
          3.8,
          3.9,
          3,
          3.7,
          3.1,
          3.2,
          3.4,
          4.4,
          3.5,
          3.4,
          3.5,
          3.5,
          3,
          3.2,
          3.3,
          3.4,
          2.3,
          3.2,
          3.5,
          3.5,
          3.6,
          3.1,
          3,
          3.1,
          3.4,
          3.4,
          4.2,
          4,
          3.7,
          3.4,
          3.723655124379593,
          3.276133220743199,
          3.110153669496898,
          2.486839314450452,
          3.2651880571146235,
          3.96238612497271,
          3.464638931349484,
          3.1156627605998244,
          3.248892124865317,
          2.7372650288298774,
          2.9399118270607505,
          2.880148538126252,
          2.862281216018885
         ],
         "yaxis": "y2"
        },
        {
         "hovertemplate": "<b>OLS trendline</b><br>sepal_width = 0.438726 * sepal_length + 1.14862<br>R<sup>2</sup>=0.197442<br><br>variety=Setosa<br>sepal_length=%{x}<br>sepal_width=%{y} <b>(trend)</b><extra></extra>",
         "legendgroup": "Setosa",
         "marker": {
          "color": "#636efa",
          "symbol": "circle"
         },
         "mode": "lines",
         "name": "Setosa",
         "showlegend": false,
         "type": "scatter",
         "x": [
          4.3,
          4.4,
          4.4,
          4.4,
          4.5,
          4.589666446093098,
          4.6,
          4.6,
          4.6,
          4.6,
          4.676796886616282,
          4.699539350414602,
          4.7,
          4.7,
          4.8,
          4.8,
          4.8,
          4.8,
          4.8,
          4.9,
          4.9,
          4.9,
          4.9,
          4.9552376142146795,
          5,
          5,
          5,
          5,
          5,
          5,
          5,
          5,
          5.051211752089524,
          5.1,
          5.1,
          5.1,
          5.1,
          5.1,
          5.1,
          5.1,
          5.1,
          5.162807076989869,
          5.2,
          5.2,
          5.2,
          5.203711616532096,
          5.3,
          5.4,
          5.4,
          5.4,
          5.4,
          5.4,
          5.5,
          5.5,
          5.678182494265637,
          5.7,
          5.7,
          5.750154021366109,
          5.7564843907007175,
          5.780573675918045,
          5.8,
          5.806816640770069,
          5.9456276792405935
         ],
         "xaxis": "x",
         "y": [
          3.035141013892976,
          3.0790136341055026,
          3.0790136341055026,
          3.0790136341055026,
          3.1228862543180282,
          3.162225273670523,
          3.1667588745305544,
          3.1667588745305544,
          3.1667588745305544,
          3.1667588745305544,
          3.2004516809307604,
          3.2104293956999688,
          3.210631494743081,
          3.210631494743081,
          3.254504114955607,
          3.254504114955607,
          3.254504114955607,
          3.254504114955607,
          3.254504114955607,
          3.2983767351681332,
          3.2983767351681332,
          3.2983767351681332,
          3.2983767351681332,
          3.322610923867,
          3.3422493553806594,
          3.3422493553806594,
          3.3422493553806594,
          3.3422493553806594,
          3.3422493553806594,
          3.3422493553806594,
          3.3422493553806594,
          3.3422493553806594,
          3.3647172928790767,
          3.3861219755931855,
          3.3861219755931855,
          3.3861219755931855,
          3.3861219755931855,
          3.3861219755931855,
          3.3861219755931855,
          3.3861219755931855,
          3.3861219755931855,
          3.4136770859475396,
          3.4299945958057116,
          3.4299945958057116,
          3.4299945958057116,
          3.4316229792305832,
          3.473867216018238,
          3.5177398362307644,
          3.5177398362307644,
          3.5177398362307644,
          3.5177398362307644,
          3.5177398362307644,
          3.5616124564432905,
          3.5616124564432905,
          3.6397857854376596,
          3.6493576968683428,
          3.6493576968683428,
          3.671361580183605,
          3.6741388790798277,
          3.6847074796951382,
          3.693230317080869,
          3.6962209559971737,
          3.7571209957184104
         ],
         "yaxis": "y"
        },
        {
         "hovertemplate": "variety=Versicolor<br>sepal_length=%{x}<br>sepal_width=%{y}<extra></extra>",
         "legendgroup": "Versicolor",
         "marker": {
          "color": "#EF553B",
          "symbol": "circle"
         },
         "mode": "markers",
         "name": "Versicolor",
         "orientation": "v",
         "showlegend": true,
         "type": "scatter",
         "x": [
          5.6,
          6,
          6.4,
          6.3,
          5.9,
          5.5,
          5.9,
          5.8,
          5.7,
          6.3,
          6.6,
          6.5,
          6.2,
          6.1,
          5.6,
          5.8,
          5,
          5.7,
          6.4,
          5.5,
          6.3,
          5.2,
          6.8,
          6.1,
          5.7,
          5,
          5.7,
          6.7,
          5.5,
          5.1,
          5.7,
          6.9,
          6.6,
          6.7,
          5.6,
          7,
          6,
          6.1,
          5.6,
          4.9,
          5.4,
          6.1,
          6.7,
          5.6,
          5.5,
          6,
          5.5,
          6,
          6.2,
          5.8,
          6.8573386755067505,
          5.8782349607989435,
          6.4689894588721,
          7.276810343073624,
          5.139446204616327,
          7.090351228324162,
          4.6696109209307,
          6.248226118531116,
          5.814839575945616,
          5.118005992589361,
          4.609999008648176
         ],
         "xaxis": "x",
         "y": [
          2.7,
          2.9,
          2.9,
          3.3,
          3.2,
          2.5,
          3,
          2.7,
          2.6,
          2.3,
          3,
          2.8,
          2.2,
          3,
          2.5,
          2.7,
          2,
          2.8,
          3.2,
          2.4,
          2.5,
          2.7,
          2.8,
          2.9,
          2.9,
          2.3,
          2.8,
          3.1,
          2.3,
          2.5,
          3,
          3.1,
          2.9,
          3,
          2.9,
          3.2,
          2.2,
          2.8,
          3,
          2.4,
          3,
          2.8,
          3.1,
          3,
          2.4,
          3.4,
          2.6,
          2.7,
          2.9,
          2.6,
          3.2639658713312505,
          3.2232742101927987,
          3.473135931667606,
          3.226171473129222,
          2.905989064433107,
          2.503803983888786,
          3.2862947180268547,
          2.4850753277015176,
          3.045103887735798,
          2.7488411462004874,
          2.239757316816931
         ],
         "yaxis": "y"
        },
        {
         "alignmentgroup": "True",
         "hovertemplate": "variety=Versicolor<br>sepal_length=%{x}<extra></extra>",
         "legendgroup": "Versicolor",
         "marker": {
          "color": "#EF553B",
          "symbol": "circle"
         },
         "name": "Versicolor",
         "notched": true,
         "offsetgroup": "Versicolor",
         "showlegend": false,
         "type": "box",
         "x": [
          5.6,
          6,
          6.4,
          6.3,
          5.9,
          5.5,
          5.9,
          5.8,
          5.7,
          6.3,
          6.6,
          6.5,
          6.2,
          6.1,
          5.6,
          5.8,
          5,
          5.7,
          6.4,
          5.5,
          6.3,
          5.2,
          6.8,
          6.1,
          5.7,
          5,
          5.7,
          6.7,
          5.5,
          5.1,
          5.7,
          6.9,
          6.6,
          6.7,
          5.6,
          7,
          6,
          6.1,
          5.6,
          4.9,
          5.4,
          6.1,
          6.7,
          5.6,
          5.5,
          6,
          5.5,
          6,
          6.2,
          5.8,
          6.8573386755067505,
          5.8782349607989435,
          6.4689894588721,
          7.276810343073624,
          5.139446204616327,
          7.090351228324162,
          4.6696109209307,
          6.248226118531116,
          5.814839575945616,
          5.118005992589361,
          4.609999008648176
         ],
         "xaxis": "x3",
         "yaxis": "y3"
        },
        {
         "alignmentgroup": "True",
         "hovertemplate": "variety=Versicolor<br>sepal_width=%{y}<extra></extra>",
         "legendgroup": "Versicolor",
         "marker": {
          "color": "#EF553B",
          "symbol": "circle"
         },
         "name": "Versicolor",
         "offsetgroup": "Versicolor",
         "scalegroup": "y",
         "showlegend": false,
         "type": "violin",
         "xaxis": "x2",
         "y": [
          2.7,
          2.9,
          2.9,
          3.3,
          3.2,
          2.5,
          3,
          2.7,
          2.6,
          2.3,
          3,
          2.8,
          2.2,
          3,
          2.5,
          2.7,
          2,
          2.8,
          3.2,
          2.4,
          2.5,
          2.7,
          2.8,
          2.9,
          2.9,
          2.3,
          2.8,
          3.1,
          2.3,
          2.5,
          3,
          3.1,
          2.9,
          3,
          2.9,
          3.2,
          2.2,
          2.8,
          3,
          2.4,
          3,
          2.8,
          3.1,
          3,
          2.4,
          3.4,
          2.6,
          2.7,
          2.9,
          2.6,
          3.2639658713312505,
          3.2232742101927987,
          3.473135931667606,
          3.226171473129222,
          2.905989064433107,
          2.503803983888786,
          3.2862947180268547,
          2.4850753277015176,
          3.045103887735798,
          2.7488411462004874,
          2.239757316816931
         ],
         "yaxis": "y2"
        },
        {
         "hovertemplate": "<b>OLS trendline</b><br>sepal_width = 0.231769 * sepal_length + 1.42635<br>R<sup>2</sup>=0.176911<br><br>variety=Versicolor<br>sepal_length=%{x}<br>sepal_width=%{y} <b>(trend)</b><extra></extra>",
         "legendgroup": "Versicolor",
         "marker": {
          "color": "#EF553B",
          "symbol": "circle"
         },
         "mode": "lines",
         "name": "Versicolor",
         "showlegend": false,
         "type": "scatter",
         "x": [
          4.609999008648176,
          4.6696109209307,
          4.9,
          5,
          5,
          5.1,
          5.118005992589361,
          5.139446204616327,
          5.2,
          5.4,
          5.5,
          5.5,
          5.5,
          5.5,
          5.5,
          5.6,
          5.6,
          5.6,
          5.6,
          5.6,
          5.7,
          5.7,
          5.7,
          5.7,
          5.7,
          5.8,
          5.8,
          5.8,
          5.814839575945616,
          5.8782349607989435,
          5.9,
          5.9,
          6,
          6,
          6,
          6,
          6.1,
          6.1,
          6.1,
          6.1,
          6.2,
          6.2,
          6.248226118531116,
          6.3,
          6.3,
          6.3,
          6.4,
          6.4,
          6.4689894588721,
          6.5,
          6.6,
          6.6,
          6.7,
          6.7,
          6.7,
          6.8,
          6.8573386755067505,
          6.9,
          7,
          7.090351228324162,
          7.276810343073624
         ],
         "xaxis": "x",
         "y": [
          2.494808043587504,
          2.5086242475639713,
          2.5620213353018335,
          2.5851982532154647,
          2.5851982532154647,
          2.6083751711290954,
          2.612548405251067,
          2.617517585593065,
          2.631552089042727,
          2.6779059248699895,
          2.70108284278362,
          2.70108284278362,
          2.70108284278362,
          2.70108284278362,
          2.70108284278362,
          2.724259760697252,
          2.724259760697252,
          2.724259760697252,
          2.724259760697252,
          2.724259760697252,
          2.7474366786108826,
          2.7474366786108826,
          2.7474366786108826,
          2.7474366786108826,
          2.7474366786108826,
          2.770613596524514,
          2.770613596524514,
          2.770613596524514,
          2.7740529528601603,
          2.7887460491686467,
          2.793790514438145,
          2.793790514438145,
          2.8169674323517766,
          2.8169674323517766,
          2.8169674323517766,
          2.8169674323517766,
          2.8401443502654073,
          2.8401443502654073,
          2.8401443502654073,
          2.8401443502654073,
          2.863321268179039,
          2.863321268179039,
          2.874498596083926,
          2.8864981860926697,
          2.8864981860926697,
          2.8864981860926697,
          2.9096751040063014,
          2.9096751040063014,
          2.925664734258146,
          2.932852021919932,
          2.9560289398335633,
          2.9560289398335633,
          2.9792058577471945,
          2.9792058577471945,
          2.9792058577471945,
          3.0023827756608257,
          3.0156721134157887,
          3.025559693574457,
          3.048736611488088,
          3.0696772415107363,
          3.1128927174787027
         ],
         "yaxis": "y"
        },
        {
         "hovertemplate": "variety=Virginica<br>sepal_length=%{x}<br>sepal_width=%{y}<extra></extra>",
         "legendgroup": "Virginica",
         "marker": {
          "color": "#00cc96",
          "symbol": "circle"
         },
         "mode": "markers",
         "name": "Virginica",
         "orientation": "v",
         "showlegend": true,
         "type": "scatter",
         "x": [
          6.3,
          7.2,
          6.5,
          6.4,
          6.1,
          5.8,
          6.5,
          6.3,
          6.8,
          7.1,
          6.7,
          6.5,
          7.7,
          6.4,
          5.6,
          5.9,
          6.2,
          6.1,
          6.7,
          7.7,
          6.8,
          5.8,
          7.6,
          6.3,
          6,
          6.7,
          4.9,
          7.3,
          7.2,
          7.7,
          6.4,
          7.9,
          6.7,
          6.4,
          6,
          6.7,
          6.9,
          6.9,
          6.3,
          7.7,
          6.9,
          6.3,
          7.2,
          7.4,
          6.3,
          5.7,
          6.2,
          6.5,
          6.4,
          7.0809193435057844,
          7.083173588303286,
          6.531247271426038,
          7.672934707178735,
          6.616221396434428,
          6.2881911448763015,
          7.238706989249322,
          6.90906910202694,
          7.684772414682669,
          5.87232495943579,
          5.759085295754035,
          5.914173836043854,
          5.784761157227475
         ],
         "xaxis": "x",
         "y": [
          3.3,
          3,
          3,
          2.8,
          2.6,
          2.7,
          3,
          2.5,
          3.2,
          3,
          3.1,
          3.2,
          3.8,
          3.2,
          2.8,
          3,
          3.4,
          3,
          3.3,
          3,
          3,
          2.8,
          3,
          2.7,
          3,
          3.3,
          2.5,
          2.9,
          3.2,
          2.6,
          3.1,
          3.8,
          2.5,
          2.7,
          2.2,
          3,
          3.2,
          3.1,
          2.8,
          2.8,
          3.1,
          3.4,
          3.6,
          2.8,
          2.9,
          2.5,
          2.8,
          3,
          2.8,
          2.364774618887905,
          3.20977222695023,
          3.0790349799807095,
          2.303166383713453,
          3.618727239236774,
          3.0262152412720584,
          3.058037433028688,
          3.132485473954982,
          2.9929238355741736,
          3.440406497670909,
          3.6572642225436693,
          2.344429562939209,
          3.7433242436796372
         ],
         "yaxis": "y"
        },
        {
         "alignmentgroup": "True",
         "hovertemplate": "variety=Virginica<br>sepal_length=%{x}<extra></extra>",
         "legendgroup": "Virginica",
         "marker": {
          "color": "#00cc96",
          "symbol": "circle"
         },
         "name": "Virginica",
         "notched": true,
         "offsetgroup": "Virginica",
         "showlegend": false,
         "type": "box",
         "x": [
          6.3,
          7.2,
          6.5,
          6.4,
          6.1,
          5.8,
          6.5,
          6.3,
          6.8,
          7.1,
          6.7,
          6.5,
          7.7,
          6.4,
          5.6,
          5.9,
          6.2,
          6.1,
          6.7,
          7.7,
          6.8,
          5.8,
          7.6,
          6.3,
          6,
          6.7,
          4.9,
          7.3,
          7.2,
          7.7,
          6.4,
          7.9,
          6.7,
          6.4,
          6,
          6.7,
          6.9,
          6.9,
          6.3,
          7.7,
          6.9,
          6.3,
          7.2,
          7.4,
          6.3,
          5.7,
          6.2,
          6.5,
          6.4,
          7.0809193435057844,
          7.083173588303286,
          6.531247271426038,
          7.672934707178735,
          6.616221396434428,
          6.2881911448763015,
          7.238706989249322,
          6.90906910202694,
          7.684772414682669,
          5.87232495943579,
          5.759085295754035,
          5.914173836043854,
          5.784761157227475
         ],
         "xaxis": "x3",
         "yaxis": "y3"
        },
        {
         "alignmentgroup": "True",
         "hovertemplate": "variety=Virginica<br>sepal_width=%{y}<extra></extra>",
         "legendgroup": "Virginica",
         "marker": {
          "color": "#00cc96",
          "symbol": "circle"
         },
         "name": "Virginica",
         "offsetgroup": "Virginica",
         "scalegroup": "y",
         "showlegend": false,
         "type": "violin",
         "xaxis": "x2",
         "y": [
          3.3,
          3,
          3,
          2.8,
          2.6,
          2.7,
          3,
          2.5,
          3.2,
          3,
          3.1,
          3.2,
          3.8,
          3.2,
          2.8,
          3,
          3.4,
          3,
          3.3,
          3,
          3,
          2.8,
          3,
          2.7,
          3,
          3.3,
          2.5,
          2.9,
          3.2,
          2.6,
          3.1,
          3.8,
          2.5,
          2.7,
          2.2,
          3,
          3.2,
          3.1,
          2.8,
          2.8,
          3.1,
          3.4,
          3.6,
          2.8,
          2.9,
          2.5,
          2.8,
          3,
          2.8,
          2.364774618887905,
          3.20977222695023,
          3.0790349799807095,
          2.303166383713453,
          3.618727239236774,
          3.0262152412720584,
          3.058037433028688,
          3.132485473954982,
          2.9929238355741736,
          3.440406497670909,
          3.6572642225436693,
          2.344429562939209,
          3.7433242436796372
         ],
         "yaxis": "y2"
        },
        {
         "hovertemplate": "<b>OLS trendline</b><br>sepal_width = 0.0984741 * sepal_length + 2.34827<br>R<sup>2</sup>=0.030259<br><br>variety=Virginica<br>sepal_length=%{x}<br>sepal_width=%{y} <b>(trend)</b><extra></extra>",
         "legendgroup": "Virginica",
         "marker": {
          "color": "#00cc96",
          "symbol": "circle"
         },
         "mode": "lines",
         "name": "Virginica",
         "showlegend": false,
         "type": "scatter",
         "x": [
          4.9,
          5.6,
          5.7,
          5.759085295754035,
          5.784761157227475,
          5.8,
          5.8,
          5.87232495943579,
          5.9,
          5.914173836043854,
          6,
          6,
          6.1,
          6.1,
          6.2,
          6.2,
          6.2881911448763015,
          6.3,
          6.3,
          6.3,
          6.3,
          6.3,
          6.3,
          6.4,
          6.4,
          6.4,
          6.4,
          6.4,
          6.5,
          6.5,
          6.5,
          6.5,
          6.531247271426038,
          6.616221396434428,
          6.7,
          6.7,
          6.7,
          6.7,
          6.7,
          6.8,
          6.8,
          6.9,
          6.9,
          6.9,
          6.90906910202694,
          7.0809193435057844,
          7.083173588303286,
          7.1,
          7.2,
          7.2,
          7.2,
          7.238706989249322,
          7.3,
          7.4,
          7.6,
          7.672934707178735,
          7.684772414682669,
          7.7,
          7.7,
          7.7,
          7.7,
          7.9
         ],
         "xaxis": "x",
         "y": [
          2.8307920235987627,
          2.8997239150072205,
          2.9095713280655717,
          2.9153897011952195,
          2.9179181093307993,
          2.9194187411239225,
          2.9194187411239225,
          2.92654087862385,
          2.9292661541822738,
          2.9306619103637255,
          2.939113567240625,
          2.939113567240625,
          2.948960980298976,
          2.948960980298976,
          2.958808393357327,
          2.958808393357327,
          2.967492939674185,
          2.968655806415678,
          2.968655806415678,
          2.968655806415678,
          2.968655806415678,
          2.968655806415678,
          2.968655806415678,
          2.978503219474029,
          2.978503219474029,
          2.978503219474029,
          2.978503219474029,
          2.978503219474029,
          2.9883506325323803,
          2.9883506325323803,
          2.9883506325323803,
          2.9883506325323803,
          2.991427680419166,
          2.999795433501462,
          3.0080454586490823,
          3.0080454586490823,
          3.0080454586490823,
          3.0080454586490823,
          3.0080454586490823,
          3.017892871707433,
          3.017892871707433,
          3.0277402847657844,
          3.0277402847657844,
          3.0277402847657844,
          3.0286333567030606,
          3.0455561598232563,
          3.0457781446198124,
          3.0474351108824864,
          3.0572825239408377,
          3.0572825239408377,
          3.0572825239408377,
          3.06109416105467,
          3.067129936999189,
          3.07697735005754,
          3.096672176174242,
          3.103854358053031,
          3.105020066007583,
          3.106519589232593,
          3.106519589232593,
          3.106519589232593,
          3.106519589232593,
          3.1262144153492955
         ],
         "yaxis": "y"
        },
        {
         "hovertemplate": "sepal_length=%{x}<br>sepal_width=%{y}<extra></extra>",
         "legendgroup": "",
         "marker": {
          "color": "yellow",
          "size": 10,
          "symbol": "circle"
         },
         "mode": "markers",
         "name": "",
         "orientation": "v",
         "showlegend": false,
         "type": "scatter",
         "x": [
          5.784761157227475
         ],
         "xaxis": "x",
         "y": [
          3.7433242436796372
         ],
         "yaxis": "y"
        }
       ],
       "layout": {
        "legend": {
         "title": {
          "text": "variety"
         },
         "tracegroupgap": 0
        },
        "template": {
         "data": {
          "bar": [
           {
            "error_x": {
             "color": "#2a3f5f"
            },
            "error_y": {
             "color": "#2a3f5f"
            },
            "marker": {
             "line": {
              "color": "#E5ECF6",
              "width": 0.5
             },
             "pattern": {
              "fillmode": "overlay",
              "size": 10,
              "solidity": 0.2
             }
            },
            "type": "bar"
           }
          ],
          "barpolar": [
           {
            "marker": {
             "line": {
              "color": "#E5ECF6",
              "width": 0.5
             },
             "pattern": {
              "fillmode": "overlay",
              "size": 10,
              "solidity": 0.2
             }
            },
            "type": "barpolar"
           }
          ],
          "carpet": [
           {
            "aaxis": {
             "endlinecolor": "#2a3f5f",
             "gridcolor": "white",
             "linecolor": "white",
             "minorgridcolor": "white",
             "startlinecolor": "#2a3f5f"
            },
            "baxis": {
             "endlinecolor": "#2a3f5f",
             "gridcolor": "white",
             "linecolor": "white",
             "minorgridcolor": "white",
             "startlinecolor": "#2a3f5f"
            },
            "type": "carpet"
           }
          ],
          "choropleth": [
           {
            "colorbar": {
             "outlinewidth": 0,
             "ticks": ""
            },
            "type": "choropleth"
           }
          ],
          "contour": [
           {
            "colorbar": {
             "outlinewidth": 0,
             "ticks": ""
            },
            "colorscale": [
             [
              0,
              "#0d0887"
             ],
             [
              0.1111111111111111,
              "#46039f"
             ],
             [
              0.2222222222222222,
              "#7201a8"
             ],
             [
              0.3333333333333333,
              "#9c179e"
             ],
             [
              0.4444444444444444,
              "#bd3786"
             ],
             [
              0.5555555555555556,
              "#d8576b"
             ],
             [
              0.6666666666666666,
              "#ed7953"
             ],
             [
              0.7777777777777778,
              "#fb9f3a"
             ],
             [
              0.8888888888888888,
              "#fdca26"
             ],
             [
              1,
              "#f0f921"
             ]
            ],
            "type": "contour"
           }
          ],
          "contourcarpet": [
           {
            "colorbar": {
             "outlinewidth": 0,
             "ticks": ""
            },
            "type": "contourcarpet"
           }
          ],
          "heatmap": [
           {
            "colorbar": {
             "outlinewidth": 0,
             "ticks": ""
            },
            "colorscale": [
             [
              0,
              "#0d0887"
             ],
             [
              0.1111111111111111,
              "#46039f"
             ],
             [
              0.2222222222222222,
              "#7201a8"
             ],
             [
              0.3333333333333333,
              "#9c179e"
             ],
             [
              0.4444444444444444,
              "#bd3786"
             ],
             [
              0.5555555555555556,
              "#d8576b"
             ],
             [
              0.6666666666666666,
              "#ed7953"
             ],
             [
              0.7777777777777778,
              "#fb9f3a"
             ],
             [
              0.8888888888888888,
              "#fdca26"
             ],
             [
              1,
              "#f0f921"
             ]
            ],
            "type": "heatmap"
           }
          ],
          "heatmapgl": [
           {
            "colorbar": {
             "outlinewidth": 0,
             "ticks": ""
            },
            "colorscale": [
             [
              0,
              "#0d0887"
             ],
             [
              0.1111111111111111,
              "#46039f"
             ],
             [
              0.2222222222222222,
              "#7201a8"
             ],
             [
              0.3333333333333333,
              "#9c179e"
             ],
             [
              0.4444444444444444,
              "#bd3786"
             ],
             [
              0.5555555555555556,
              "#d8576b"
             ],
             [
              0.6666666666666666,
              "#ed7953"
             ],
             [
              0.7777777777777778,
              "#fb9f3a"
             ],
             [
              0.8888888888888888,
              "#fdca26"
             ],
             [
              1,
              "#f0f921"
             ]
            ],
            "type": "heatmapgl"
           }
          ],
          "histogram": [
           {
            "marker": {
             "pattern": {
              "fillmode": "overlay",
              "size": 10,
              "solidity": 0.2
             }
            },
            "type": "histogram"
           }
          ],
          "histogram2d": [
           {
            "colorbar": {
             "outlinewidth": 0,
             "ticks": ""
            },
            "colorscale": [
             [
              0,
              "#0d0887"
             ],
             [
              0.1111111111111111,
              "#46039f"
             ],
             [
              0.2222222222222222,
              "#7201a8"
             ],
             [
              0.3333333333333333,
              "#9c179e"
             ],
             [
              0.4444444444444444,
              "#bd3786"
             ],
             [
              0.5555555555555556,
              "#d8576b"
             ],
             [
              0.6666666666666666,
              "#ed7953"
             ],
             [
              0.7777777777777778,
              "#fb9f3a"
             ],
             [
              0.8888888888888888,
              "#fdca26"
             ],
             [
              1,
              "#f0f921"
             ]
            ],
            "type": "histogram2d"
           }
          ],
          "histogram2dcontour": [
           {
            "colorbar": {
             "outlinewidth": 0,
             "ticks": ""
            },
            "colorscale": [
             [
              0,
              "#0d0887"
             ],
             [
              0.1111111111111111,
              "#46039f"
             ],
             [
              0.2222222222222222,
              "#7201a8"
             ],
             [
              0.3333333333333333,
              "#9c179e"
             ],
             [
              0.4444444444444444,
              "#bd3786"
             ],
             [
              0.5555555555555556,
              "#d8576b"
             ],
             [
              0.6666666666666666,
              "#ed7953"
             ],
             [
              0.7777777777777778,
              "#fb9f3a"
             ],
             [
              0.8888888888888888,
              "#fdca26"
             ],
             [
              1,
              "#f0f921"
             ]
            ],
            "type": "histogram2dcontour"
           }
          ],
          "mesh3d": [
           {
            "colorbar": {
             "outlinewidth": 0,
             "ticks": ""
            },
            "type": "mesh3d"
           }
          ],
          "parcoords": [
           {
            "line": {
             "colorbar": {
              "outlinewidth": 0,
              "ticks": ""
             }
            },
            "type": "parcoords"
           }
          ],
          "pie": [
           {
            "automargin": true,
            "type": "pie"
           }
          ],
          "scatter": [
           {
            "marker": {
             "colorbar": {
              "outlinewidth": 0,
              "ticks": ""
             }
            },
            "type": "scatter"
           }
          ],
          "scatter3d": [
           {
            "line": {
             "colorbar": {
              "outlinewidth": 0,
              "ticks": ""
             }
            },
            "marker": {
             "colorbar": {
              "outlinewidth": 0,
              "ticks": ""
             }
            },
            "type": "scatter3d"
           }
          ],
          "scattercarpet": [
           {
            "marker": {
             "colorbar": {
              "outlinewidth": 0,
              "ticks": ""
             }
            },
            "type": "scattercarpet"
           }
          ],
          "scattergeo": [
           {
            "marker": {
             "colorbar": {
              "outlinewidth": 0,
              "ticks": ""
             }
            },
            "type": "scattergeo"
           }
          ],
          "scattergl": [
           {
            "marker": {
             "colorbar": {
              "outlinewidth": 0,
              "ticks": ""
             }
            },
            "type": "scattergl"
           }
          ],
          "scattermapbox": [
           {
            "marker": {
             "colorbar": {
              "outlinewidth": 0,
              "ticks": ""
             }
            },
            "type": "scattermapbox"
           }
          ],
          "scatterpolar": [
           {
            "marker": {
             "colorbar": {
              "outlinewidth": 0,
              "ticks": ""
             }
            },
            "type": "scatterpolar"
           }
          ],
          "scatterpolargl": [
           {
            "marker": {
             "colorbar": {
              "outlinewidth": 0,
              "ticks": ""
             }
            },
            "type": "scatterpolargl"
           }
          ],
          "scatterternary": [
           {
            "marker": {
             "colorbar": {
              "outlinewidth": 0,
              "ticks": ""
             }
            },
            "type": "scatterternary"
           }
          ],
          "surface": [
           {
            "colorbar": {
             "outlinewidth": 0,
             "ticks": ""
            },
            "colorscale": [
             [
              0,
              "#0d0887"
             ],
             [
              0.1111111111111111,
              "#46039f"
             ],
             [
              0.2222222222222222,
              "#7201a8"
             ],
             [
              0.3333333333333333,
              "#9c179e"
             ],
             [
              0.4444444444444444,
              "#bd3786"
             ],
             [
              0.5555555555555556,
              "#d8576b"
             ],
             [
              0.6666666666666666,
              "#ed7953"
             ],
             [
              0.7777777777777778,
              "#fb9f3a"
             ],
             [
              0.8888888888888888,
              "#fdca26"
             ],
             [
              1,
              "#f0f921"
             ]
            ],
            "type": "surface"
           }
          ],
          "table": [
           {
            "cells": {
             "fill": {
              "color": "#EBF0F8"
             },
             "line": {
              "color": "white"
             }
            },
            "header": {
             "fill": {
              "color": "#C8D4E3"
             },
             "line": {
              "color": "white"
             }
            },
            "type": "table"
           }
          ]
         },
         "layout": {
          "annotationdefaults": {
           "arrowcolor": "#2a3f5f",
           "arrowhead": 0,
           "arrowwidth": 1
          },
          "autotypenumbers": "strict",
          "coloraxis": {
           "colorbar": {
            "outlinewidth": 0,
            "ticks": ""
           }
          },
          "colorscale": {
           "diverging": [
            [
             0,
             "#8e0152"
            ],
            [
             0.1,
             "#c51b7d"
            ],
            [
             0.2,
             "#de77ae"
            ],
            [
             0.3,
             "#f1b6da"
            ],
            [
             0.4,
             "#fde0ef"
            ],
            [
             0.5,
             "#f7f7f7"
            ],
            [
             0.6,
             "#e6f5d0"
            ],
            [
             0.7,
             "#b8e186"
            ],
            [
             0.8,
             "#7fbc41"
            ],
            [
             0.9,
             "#4d9221"
            ],
            [
             1,
             "#276419"
            ]
           ],
           "sequential": [
            [
             0,
             "#0d0887"
            ],
            [
             0.1111111111111111,
             "#46039f"
            ],
            [
             0.2222222222222222,
             "#7201a8"
            ],
            [
             0.3333333333333333,
             "#9c179e"
            ],
            [
             0.4444444444444444,
             "#bd3786"
            ],
            [
             0.5555555555555556,
             "#d8576b"
            ],
            [
             0.6666666666666666,
             "#ed7953"
            ],
            [
             0.7777777777777778,
             "#fb9f3a"
            ],
            [
             0.8888888888888888,
             "#fdca26"
            ],
            [
             1,
             "#f0f921"
            ]
           ],
           "sequentialminus": [
            [
             0,
             "#0d0887"
            ],
            [
             0.1111111111111111,
             "#46039f"
            ],
            [
             0.2222222222222222,
             "#7201a8"
            ],
            [
             0.3333333333333333,
             "#9c179e"
            ],
            [
             0.4444444444444444,
             "#bd3786"
            ],
            [
             0.5555555555555556,
             "#d8576b"
            ],
            [
             0.6666666666666666,
             "#ed7953"
            ],
            [
             0.7777777777777778,
             "#fb9f3a"
            ],
            [
             0.8888888888888888,
             "#fdca26"
            ],
            [
             1,
             "#f0f921"
            ]
           ]
          },
          "colorway": [
           "#636efa",
           "#EF553B",
           "#00cc96",
           "#ab63fa",
           "#FFA15A",
           "#19d3f3",
           "#FF6692",
           "#B6E880",
           "#FF97FF",
           "#FECB52"
          ],
          "font": {
           "color": "#2a3f5f"
          },
          "geo": {
           "bgcolor": "white",
           "lakecolor": "white",
           "landcolor": "#E5ECF6",
           "showlakes": true,
           "showland": true,
           "subunitcolor": "white"
          },
          "hoverlabel": {
           "align": "left"
          },
          "hovermode": "closest",
          "mapbox": {
           "style": "light"
          },
          "paper_bgcolor": "white",
          "plot_bgcolor": "#E5ECF6",
          "polar": {
           "angularaxis": {
            "gridcolor": "white",
            "linecolor": "white",
            "ticks": ""
           },
           "bgcolor": "#E5ECF6",
           "radialaxis": {
            "gridcolor": "white",
            "linecolor": "white",
            "ticks": ""
           }
          },
          "scene": {
           "xaxis": {
            "backgroundcolor": "#E5ECF6",
            "gridcolor": "white",
            "gridwidth": 2,
            "linecolor": "white",
            "showbackground": true,
            "ticks": "",
            "zerolinecolor": "white"
           },
           "yaxis": {
            "backgroundcolor": "#E5ECF6",
            "gridcolor": "white",
            "gridwidth": 2,
            "linecolor": "white",
            "showbackground": true,
            "ticks": "",
            "zerolinecolor": "white"
           },
           "zaxis": {
            "backgroundcolor": "#E5ECF6",
            "gridcolor": "white",
            "gridwidth": 2,
            "linecolor": "white",
            "showbackground": true,
            "ticks": "",
            "zerolinecolor": "white"
           }
          },
          "shapedefaults": {
           "line": {
            "color": "#2a3f5f"
           }
          },
          "ternary": {
           "aaxis": {
            "gridcolor": "white",
            "linecolor": "white",
            "ticks": ""
           },
           "baxis": {
            "gridcolor": "white",
            "linecolor": "white",
            "ticks": ""
           },
           "bgcolor": "#E5ECF6",
           "caxis": {
            "gridcolor": "white",
            "linecolor": "white",
            "ticks": ""
           }
          },
          "title": {
           "x": 0.05
          },
          "xaxis": {
           "automargin": true,
           "gridcolor": "white",
           "linecolor": "white",
           "ticks": "",
           "title": {
            "standoff": 15
           },
           "zerolinecolor": "white",
           "zerolinewidth": 2
          },
          "yaxis": {
           "automargin": true,
           "gridcolor": "white",
           "linecolor": "white",
           "ticks": "",
           "title": {
            "standoff": 15
           },
           "zerolinecolor": "white",
           "zerolinewidth": 2
          }
         }
        },
        "title": {
         "text": "Iris Dataset"
        },
        "xaxis": {
         "anchor": "y",
         "domain": [
          0,
          0.7363
         ],
         "title": {
          "text": "sepal_length"
         }
        },
        "xaxis2": {
         "anchor": "y2",
         "domain": [
          0.7413,
          1
         ],
         "matches": "x2",
         "showgrid": false,
         "showline": false,
         "showticklabels": false,
         "ticks": ""
        },
        "xaxis3": {
         "anchor": "y3",
         "domain": [
          0,
          0.7363
         ],
         "matches": "x",
         "showgrid": true,
         "showticklabels": false
        },
        "xaxis4": {
         "anchor": "y4",
         "domain": [
          0.7413,
          1
         ],
         "matches": "x2",
         "showgrid": false,
         "showline": false,
         "showticklabels": false,
         "ticks": ""
        },
        "yaxis": {
         "anchor": "x",
         "domain": [
          0,
          0.7326
         ],
         "title": {
          "text": "sepal_width"
         }
        },
        "yaxis2": {
         "anchor": "x2",
         "domain": [
          0,
          0.7326
         ],
         "matches": "y",
         "showgrid": true,
         "showticklabels": false
        },
        "yaxis3": {
         "anchor": "x3",
         "domain": [
          0.7426,
          1
         ],
         "matches": "y3",
         "showgrid": false,
         "showline": false,
         "showticklabels": false,
         "ticks": ""
        },
        "yaxis4": {
         "anchor": "x4",
         "domain": [
          0.7426,
          1
         ],
         "matches": "y3",
         "showgrid": true,
         "showline": false,
         "showticklabels": false,
         "ticks": ""
        }
       }
      }
     },
     "metadata": {},
     "output_type": "display_data"
    }
   ],
   "source": [
    "fig.add_traces(\n",
    "    px.scatter(df.tail(1), x=\"sepal_length\", y=\"sepal_width\").update_traces(marker_size=10, marker_color=\"yellow\").data\n",
    ")"
   ]
  },
  {
   "cell_type": "code",
   "execution_count": 23,
   "metadata": {},
   "outputs": [],
   "source": [
    "import os\n",
    "from os import mkdir\n",
    "if not os.path.exists(\"../../assets/module1/html\"):\n",
    "    mkdir(\"../../assets/module1/html\")\n",
    "fig.to_html(full_html=False, include_plotlyjs='cdn')\n",
    "fig.write_html(\"../../assets/module1/html/index.html\", full_html=False, include_plotlyjs='cdn')"
   ]
  },
  {
   "cell_type": "code",
   "execution_count": 24,
   "metadata": {},
   "outputs": [],
   "source": [
    "fig.write_image(\"../../assets/module1/scatter_plot.png\")"
   ]
  },
  {
   "cell_type": "code",
   "execution_count": null,
   "metadata": {},
   "outputs": [],
   "source": []
  }
 ],
 "metadata": {
  "colab": {
   "collapsed_sections": [],
   "provenance": []
  },
  "kernelspec": {
   "display_name": "Python 3.7.12 ('tf1')",
   "language": "python",
   "name": "python3"
  },
  "language_info": {
   "codemirror_mode": {
    "name": "ipython",
    "version": 3
   },
   "file_extension": ".py",
   "mimetype": "text/x-python",
   "name": "python",
   "nbconvert_exporter": "python",
   "pygments_lexer": "ipython3",
   "version": "3.7.12"
  },
  "vscode": {
   "interpreter": {
    "hash": "48324878fd09c2ff1755460c6bedcd7035239e95f1ec0df88470a6ba78f59e5a"
   }
  }
 },
 "nbformat": 4,
 "nbformat_minor": 1
}
