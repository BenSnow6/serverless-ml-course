{
 "cells": [
  {
   "cell_type": "code",
   "execution_count": 1,
   "id": "4948e813",
   "metadata": {},
   "outputs": [
    {
     "name": "stdout",
     "output_type": "stream",
     "text": [
      "[0 1 1 2]\n"
     ]
    }
   ],
   "source": [
    "import sklearn \n",
    "from sklearn.linear_model import LogisticRegression\n",
    "\n",
    "# [green_apple(0,120), green_apple(0,110), orange(250,150), orange(255, 163), red_apple(255,0), red_apple(240,0)]\n",
    "features = [[0,120], [75, 40], [60, 60], [255, 163], [255, 0], [240, 0]]\n",
    "\n",
    "# [green_apple, green_apple, orange, orange, red_apple, red_apple]\n",
    "labels = [0, 0, 1, 1, 2, 2]\n",
    "\n",
    "clf = LogisticRegression()\n",
    "clf = clf.fit(features, labels)\n",
    "\n",
    "# (66,66) is labelled as a green apple\n",
    "test_features = [[0,110], [66, 66], [249, 155], [245, 0]]\n",
    "test_labels = [0, 1, 0, 2] \n",
    "pred_labels = clf.predict(test_features)\n",
    "\n",
    "print(pred_labels)"
   ]
  },
  {
   "cell_type": "markdown",
   "id": "f3ad083c",
   "metadata": {},
   "source": [
    "It's easy to tell by eye which of the four test features are apples and which are oranges. But how does the classifier know? It's because the classifier has learned the relationship between the features and the labels. On the test data, the classifier struggled with the example: [249, 155] labelled 0. This is not so surprising since this very close to one of the training examples: [255, 165] which is labelled 1. This would confuse the model since it's not clear which label to assign to the test example. This is an example of overfitting. The model has learned the training data too well and is not generalizing well to new data."
   ]
  }
 ],
 "metadata": {
  "kernelspec": {
   "display_name": "Python 3.7.12 ('tf1')",
   "language": "python",
   "name": "python3"
  },
  "language_info": {
   "codemirror_mode": {
    "name": "ipython",
    "version": 3
   },
   "file_extension": ".py",
   "mimetype": "text/x-python",
   "name": "python",
   "nbconvert_exporter": "python",
   "pygments_lexer": "ipython3",
   "version": "3.7.12"
  },
  "vscode": {
   "interpreter": {
    "hash": "48324878fd09c2ff1755460c6bedcd7035239e95f1ec0df88470a6ba78f59e5a"
   }
  }
 },
 "nbformat": 4,
 "nbformat_minor": 5
}
